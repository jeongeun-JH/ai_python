{
 "cells": [
  {
   "cell_type": "code",
   "execution_count": null,
   "id": "ae99e54b-a42f-4ecc-ae77-d926cbd980c8",
   "metadata": {},
   "outputs": [],
   "source": []
  },
  {
   "cell_type": "code",
   "execution_count": 21,
   "id": "6fa823e3-39ea-4614-9c19-d468ced5ab8d",
   "metadata": {},
   "outputs": [],
   "source": [
    "\"\"\"A class for forur arithmetic calculations\"\"\"\n",
    "\n",
    "class FourCalculation:\n",
    "    \"\"\"A class for forur arithmetic calculations\"\"\"\n",
    "\n",
    "    def __init__(self, first, second):\n",
    "        self.first = first\n",
    "        self.second = second\n",
    "#        if second == 0:\n",
    "#           raise ValueError('the number must NOT be zero')\n",
    "\n",
    "    def add(self):\n",
    "        return self.first + self.second\n",
    "\n",
    "    def mul(self):\n",
    "        return self.first * self.second\n",
    "\n",
    "    def sub(self):\n",
    "        return self.first - self.second\n",
    "\n",
    "    def div(self):\n",
    "        return self.first / self.second\n",
    "\n",
    "#%save fourcalculation.py 1-24\n"
   ]
  },
  {
   "cell_type": "code",
   "execution_count": 17,
   "id": "10bfee08-9efa-4e14-88f5-532e518c3491",
   "metadata": {},
   "outputs": [
    {
     "name": "stdout",
     "output_type": "stream",
     "text": [
      "8 2\n",
      "10 16 6 4.0\n"
     ]
    }
   ],
   "source": [
    "#from fourcalculation import FourCalculation\n",
    "#import fourcalculation as fc\n",
    "\n",
    "b = fc.FourCalculation(8, 2)\n",
    "\n",
    "print(b.first, b.second)\n",
    "print(b.add(), b.mul(), b.sub(), b.div())"
   ]
  },
  {
   "cell_type": "code",
   "execution_count": 22,
   "id": "6aefaf79-b185-4d6a-b738-0fca23cd290d",
   "metadata": {},
   "outputs": [],
   "source": [
    "#from fourcalculation import FourCalculation\n",
    "\n",
    "class FiveCalculation(FourCalculation):\n",
    "    \"\"\"Adding power calculation\"\"\"\n",
    "\n",
    "    def __init__(self, first, second, third):\n",
    "        super().__init__(first, second)\n",
    "        self.third = third\n",
    "\n",
    "    def pow(self):\n",
    "        return self.first ** self.second + self.third\n",
    "\n",
    "    def div(self):\n",
    "        if self.second == 0:\n",
    "            return 0\n",
    "        else:\n",
    "            return self.first / self.second\n",
    "\n",
    "#%save fourcalculation.py 1-24\n"
   ]
  },
  {
   "cell_type": "code",
   "execution_count": 23,
   "id": "78d6399f-08c6-47a2-aed7-8b4670f0ef6d",
   "metadata": {},
   "outputs": [
    {
     "name": "stdout",
     "output_type": "stream",
     "text": [
      "4 4 4 0\n"
     ]
    }
   ],
   "source": [
    "c = FiveCalculation(4,0,3)\n",
    "print(c.pow(), c.add(), c.sub(), c.div())"
   ]
  },
  {
   "cell_type": "code",
   "execution_count": 27,
   "id": "12ee8de5-fb57-4f87-b1a7-c13d31cb80c2",
   "metadata": {},
   "outputs": [],
   "source": [
    "class Person:\n",
    "\n",
    "    def __init__(self, first, last):\n",
    "        self.firstname = first\n",
    "        self.lastname = last\n",
    "\n",
    "    def Name(self):\n",
    "        return self.firstname + \" \" + self.lastname\n",
    "\n",
    "class Employee(Person):\n",
    "\n",
    "    def __init__(self, first, last, staffnum):\n",
    "        Person.__init__(self, first, last)\n",
    "        self.staffnumber = staffnum\n",
    "\n",
    "    def GetEmployee(self):\n",
    "        return self.Name() + \", \" + self.staffnumber\n"
   ]
  },
  {
   "cell_type": "code",
   "execution_count": 28,
   "id": "e15f2e53-64a1-4c7e-8dc9-0059e611f1c5",
   "metadata": {},
   "outputs": [
    {
     "name": "stdout",
     "output_type": "stream",
     "text": [
      "Junho Lee\n",
      "Junho Lee, 0125\n"
     ]
    }
   ],
   "source": [
    "x = Person(\"Junho\", \"Lee\")\n",
    "print(x.Name())\n",
    "y = Employee(\"Junho\", \"Lee\", \"0125\")\n",
    "print(y.GetEmployee())"
   ]
  },
  {
   "cell_type": "code",
   "execution_count": 29,
   "id": "e31679c4-6da1-4344-8b5a-ad7b11fcdbd2",
   "metadata": {},
   "outputs": [
    {
     "data": {
      "text/plain": [
       "65"
      ]
     },
     "execution_count": 29,
     "metadata": {},
     "output_type": "execute_result"
    }
   ],
   "source": [
    "ord(\"A\")"
   ]
  },
  {
   "cell_type": "code",
   "execution_count": null,
   "id": "f0467724-dfd3-4919-a50c-31c5ccaaf8e0",
   "metadata": {},
   "outputs": [],
   "source": []
  }
 ],
 "metadata": {
  "kernelspec": {
   "display_name": "Python 3 (ipykernel)",
   "language": "python",
   "name": "python3"
  },
  "language_info": {
   "codemirror_mode": {
    "name": "ipython",
    "version": 3
   },
   "file_extension": ".py",
   "mimetype": "text/x-python",
   "name": "python",
   "nbconvert_exporter": "python",
   "pygments_lexer": "ipython3",
   "version": "3.11.7"
  }
 },
 "nbformat": 4,
 "nbformat_minor": 5
}
