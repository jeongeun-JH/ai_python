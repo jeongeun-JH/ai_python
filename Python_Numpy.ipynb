{
 "cells": [
  {
   "cell_type": "markdown",
   "id": "b3665b20-2d42-4164-b981-d2ac670dd458",
   "metadata": {},
   "source": [
    "__Python: NumPy__"
   ]
  },
  {
   "cell_type": "code",
   "execution_count": 27,
   "id": "97b2050e-f884-4afe-9037-cd75f4b0a467",
   "metadata": {},
   "outputs": [
    {
     "name": "stdout",
     "output_type": "stream",
     "text": [
      "[ 7  8  9 10 11]\n",
      "object type: <class 'numpy.ndarray'>\n",
      "  data type: int32 \n",
      "      shape: (5,)\n",
      "  dimension: 1 \n",
      " array_size: 5 \n",
      "[7, 8, 9, 10, 11]\n",
      "[[ 7  8  9 10 11]]\n",
      "(1, 5)\n"
     ]
    }
   ],
   "source": [
    "import numpy as np\n",
    "a = np.array([7,8,9,10,11])\n",
    "print(f'{a}\\n{\"object type:\":>12} {type(a)}\\n{\"data type:\":>12} {a.dtype} \\\n",
    "\\n{\"shape:\":>12} {a.shape}\\n{\"dimension:\":>12} {a.ndim} \\\n",
    "\\n{\"array_size:\":>12} {a.size} \\\n",
    "')\n",
    "\n",
    "b = [7,8,9,10,11]\n",
    "print(b)\n",
    "\n",
    "a1 = np.array([a])\n",
    "print(a1)\n",
    "print(a1.shape)"
   ]
  },
  {
   "cell_type": "code",
   "execution_count": 32,
   "id": "4d3e1f15-9b28-4673-965d-529cfe0fb2f3",
   "metadata": {},
   "outputs": [
    {
     "name": "stdout",
     "output_type": "stream",
     "text": [
      "[[ 1.   2.   3.   4.   5. ]\n",
      " [ 8.   9.  10.  11.  12.2]]\n",
      "object type: <class 'numpy.ndarray'> \n",
      "  data type: float64 \n",
      "      shape: (2, 5) \n",
      "  dimension: 2 \n",
      " array_size: 10 \n"
     ]
    }
   ],
   "source": [
    "b = np.array([[1.0, 2, 3, 4, 5], [8,9,10,11, 12.2]])\n",
    "print(f'{b}\\n{\"object type:\":>12} {type(b)} \\\n",
    "\\n{\"data type:\":>12} {b.dtype} \\\n",
    "\\n{\"shape:\":>12} {b.shape} \\\n",
    "\\n{\"dimension:\":>12} {b.ndim} \\\n",
    "\\n{\"array_size:\":>12} {b.size} \\\n",
    "')"
   ]
  },
  {
   "cell_type": "code",
   "execution_count": 34,
   "id": "ad381ffd-7236-4755-8e5c-5ce288f97bba",
   "metadata": {},
   "outputs": [
    {
     "name": "stdout",
     "output_type": "stream",
     "text": [
      "[[[ 1  2  3  4  5]\n",
      "  [ 8  9 10 11 12]]\n",
      "\n",
      " [[ 4  5  6  7  8]\n",
      "  [10 11 12 13 14]]]\n",
      "object type: <class 'numpy.ndarray'> \n",
      "  data type: int32 \n",
      "      shape: (2, 2, 5) \n",
      "  dimension: 3 \n",
      " array_size: 20 \n"
     ]
    }
   ],
   "source": [
    "c = np.array([[[1, 2, 3, 4, 5], [8,9,10,11,12]], [[4, 5,6,7,8], [10,11,12,13,14]]])\n",
    "print(f'{c}\\n{\"object type:\":>12} {type(c)} \\\n",
    "\\n{\"data type:\":>12} {c.dtype} \\\n",
    "\\n{\"shape:\":>12} {c.shape} \\\n",
    "\\n{\"dimension:\":>12} {c.ndim} \\\n",
    "\\n{\"array_size:\":>12} {c.size} \\\n",
    "')"
   ]
  },
  {
   "cell_type": "code",
   "execution_count": 35,
   "id": "6299744a-7d7d-43ac-bce8-0056d4c11e49",
   "metadata": {},
   "outputs": [
    {
     "name": "stdout",
     "output_type": "stream",
     "text": [
      "[[[ 1  2  3  4  5]\n",
      "  [ 8  9 10 11 12]]]\n",
      "object type: <class 'numpy.ndarray'> \n",
      "  data type: int32 \n",
      "      shape: (1, 2, 5) \n",
      "  dimension: 3 \n",
      " array_size: 10 \n"
     ]
    }
   ],
   "source": [
    "ac1 = np.array([[[1, 2, 3, 4, 5], [8,9,10,11,12]]])\n",
    "print(f'{ac1}\\n{\"object type:\":>12} {type(ac1)} \\\n",
    "\\n{\"data type:\":>12} {ac1.dtype} \\\n",
    "\\n{\"shape:\":>12} {ac1.shape} \\\n",
    "\\n{\"dimension:\":>12} {ac1.ndim} \\\n",
    "\\n{\"array_size:\":>12} {ac1.size} \\\n",
    "')"
   ]
  },
  {
   "cell_type": "code",
   "execution_count": 39,
   "id": "b6a581d0-3860-4f96-ad42-05f41aca0ed2",
   "metadata": {},
   "outputs": [
    {
     "name": "stdout",
     "output_type": "stream",
     "text": [
      "[[[1 2 3 4 5]]]\n",
      "object type: <class 'numpy.ndarray'> \n",
      "  data type: int32 \n",
      "      shape: (1, 1, 5) \n",
      "  dimension: 3 \n",
      " array_size: 5 \n"
     ]
    }
   ],
   "source": [
    "ac2 = np.array([[[1, 2, 3, 4, 5]]])\n",
    "print(f'{ac2}\\n{\"object type:\":>12} {type(ac2)} \\\n",
    "\\n{\"data type:\":>12} {ac2.dtype} \\\n",
    "\\n{\"shape:\":>12} {ac2.shape} \\\n",
    "\\n{\"dimension:\":>12} {ac2.ndim} \\\n",
    "\\n{\"array_size:\":>12} {ac2.size} \\\n",
    "')"
   ]
  },
  {
   "cell_type": "code",
   "execution_count": 45,
   "id": "7d2d2e95-ef7a-40ce-aad5-c02ba81150e3",
   "metadata": {},
   "outputs": [
    {
     "name": "stdout",
     "output_type": "stream",
     "text": [
      "[[0. 0. 0.]\n",
      " [0. 0. 0.]]\n",
      "[[1 1 1 1]\n",
      " [1 1 1 1]]\n",
      "[[7 7 7 7 7]\n",
      " [7 7 7 7 7]]\n",
      "[[1. 0. 0. 0.]\n",
      " [0. 1. 0. 0.]\n",
      " [0. 0. 1. 0.]\n",
      " [0. 0. 0. 1.]]\n"
     ]
    }
   ],
   "source": [
    "a_zeros = np.zeros((2,3))\n",
    "print(a_zeros)\n",
    "a_ones = np.ones((2,4), dtype=int)\n",
    "print(a_ones)\n",
    "a_full = np.full((2,5), 7)\n",
    "print(a_full)\n",
    "print(np.eye(4))"
   ]
  },
  {
   "cell_type": "code",
   "execution_count": 46,
   "id": "1b892e65-efe9-445a-8c68-5d31c63335d8",
   "metadata": {},
   "outputs": [
    {
     "name": "stdout",
     "output_type": "stream",
     "text": [
      "[[[0.42563111 0.02369724 0.93839593 0.11748651]\n",
      "  [0.11803145 0.46277468 0.64885245 0.84965387]\n",
      "  [0.62249961 0.43851682 0.4535175  0.60167707]]\n",
      "\n",
      " [[0.11836912 0.71457656 0.95902348 0.57297608]\n",
      "  [0.41428191 0.03347607 0.52796475 0.8749464 ]\n",
      "  [0.38869791 0.556692   0.53953551 0.74149668]]]\n",
      "float64\n"
     ]
    }
   ],
   "source": [
    "a_ran = np.random.random((2,3,4))\n",
    "print(f'{a_ran}\\n{a_ran.dtype}')"
   ]
  },
  {
   "cell_type": "code",
   "execution_count": 50,
   "id": "ff60e486-6d36-47b3-a747-9be4d8bca24c",
   "metadata": {},
   "outputs": [
    {
     "name": "stdout",
     "output_type": "stream",
     "text": [
      "[[[ 1  2  3  4  5]\n",
      "  [ 8  9 10 11 12]]\n",
      "\n",
      " [[ 4  5  6  7  8]\n",
      "  [10 11 12 13 14]]]\n",
      "8\n",
      "8\n",
      "5\n"
     ]
    }
   ],
   "source": [
    "print(c)\n",
    "print(c[1,0,4])\n",
    "print(c[1][0][4])\n",
    "print(c[0,0,4])"
   ]
  },
  {
   "cell_type": "code",
   "execution_count": 52,
   "id": "2c7d06da-cc6f-4e35-b699-ade82a1f411d",
   "metadata": {},
   "outputs": [
    {
     "name": "stdout",
     "output_type": "stream",
     "text": [
      "[[[ 1  2  3  4  5]\n",
      "  [ 8  9 10 11 12]]\n",
      "\n",
      " [[ 4  5  6  7  8]\n",
      "  [10 11 12 13 14]]]\n",
      "[1, 2, 3, 4, 5, 8, 9, 10, 11, 12, 4, 5, 6, 7, 8, 10, 11, 12, 13, 14]\n",
      "[ 1  2  3  4  5  8  9 10 11 12  4  5  6  7  8 10 11 12 13 14]\n",
      "[ 1  2  3  4  5  8  9 10 11 12  4  5  6  7  8 10 11 12 13 14]\n"
     ]
    }
   ],
   "source": [
    "print(c)\n",
    "l = []\n",
    "for i in c:\n",
    "    for j in i:\n",
    "        for k in j:\n",
    "            l.append(k)\n",
    "print(f'{l}\\n{np.array(l)}')\n",
    "print(np.array(c.flat))"
   ]
  },
  {
   "cell_type": "code",
   "execution_count": 58,
   "id": "f6f101a9-e33e-48ca-bda8-443ac7b85594",
   "metadata": {},
   "outputs": [
    {
     "name": "stdout",
     "output_type": "stream",
     "text": [
      "[ 0  1  2  3  4  5  6  7  8  9 10 11 12 13 14 15 16 17 18 19 20]\n",
      "<class 'numpy.ndarray'>\n",
      "[[[ 0  1  2  3  4  5  6]\n",
      "  [ 7  8  9 10 11 12 13]\n",
      "  [14 15 16 17 18 19 20]]]\n"
     ]
    }
   ],
   "source": [
    "g = np.arange(21)\n",
    "print(f'{g}\\n{type(g)}')\n",
    "print(g.reshape(1,3,7))"
   ]
  },
  {
   "cell_type": "code",
   "execution_count": 54,
   "id": "0dc42d4f-efb3-4ec8-866d-d54c1c4f441f",
   "metadata": {},
   "outputs": [
    {
     "name": "stdout",
     "output_type": "stream",
     "text": [
      "[ 5  7  9 11 13 15 17 19]\n",
      "[[ 1  2  3  4  5  6  7  8  9 10]\n",
      " [11 12 13 14 15 16 17 18 19 20]]\n"
     ]
    }
   ],
   "source": [
    "h = np.arange(5, 21, 2)\n",
    "print(h)\n",
    "print(np.arange(1, 21).reshape(2, 10))"
   ]
  },
  {
   "cell_type": "code",
   "execution_count": 63,
   "id": "7648480f-17c0-4d35-b0b3-7a36f912ead5",
   "metadata": {},
   "outputs": [
    {
     "name": "stdout",
     "output_type": "stream",
     "text": [
      "[0.  0.5 1. ]\n",
      "(3,)\n",
      "3\n"
     ]
    }
   ],
   "source": [
    "a_ss = np.linspace(0,1,3)\n",
    "print(f'{a_ss}\\n{a_ss.shape}\\n{a_ss.size}')"
   ]
  },
  {
   "cell_type": "code",
   "execution_count": 64,
   "id": "cbd95407-e432-4ecb-b852-aef09eb5b2da",
   "metadata": {},
   "outputs": [
    {
     "data": {
      "text/plain": [
       "(1, 1, 5)"
      ]
     },
     "execution_count": 64,
     "metadata": {},
     "output_type": "execute_result"
    }
   ],
   "source": [
    "np.array([[[1,2,3,4,5]]]).shape\n"
   ]
  },
  {
   "cell_type": "code",
   "execution_count": 67,
   "id": "569e7a68-4038-4597-8d48-9072483be1d5",
   "metadata": {},
   "outputs": [
    {
     "name": "stdout",
     "output_type": "stream",
     "text": [
      "(3, 2) (3, 2)\n",
      "[[ 4  6]\n",
      " [ 8 10]\n",
      " [12 14]]\n",
      " [[ 2  4]\n",
      " [ 6  8]\n",
      " [10 12]]\n"
     ]
    }
   ],
   "source": [
    "xa = np.array([[1,2],[3,4],[5,6]])\n",
    "xb = np.array([[3,4],[5,6],[7,8]])\n",
    "print(xa.shape, xb.shape)\n",
    "print(f'{xa+xb}\\n {xa*2}')"
   ]
  },
  {
   "cell_type": "code",
   "execution_count": 78,
   "id": "b283a961-3e2e-40a0-90a9-6f8f1c44c75a",
   "metadata": {},
   "outputs": [
    {
     "name": "stdout",
     "output_type": "stream",
     "text": [
      "[[ 4  6]\n",
      " [ 8 10]\n",
      " [12 14]]\n",
      "[[-2 -2]\n",
      " [-2 -2]\n",
      " [-2 -2]]\n",
      "[[ 3  8]\n",
      " [15 24]\n",
      " [35 48]]\n",
      "[[1.         1.41421356]\n",
      " [1.73205081 2.        ]\n",
      " [2.23606798 2.44948974]]\n"
     ]
    }
   ],
   "source": [
    "xa = np.array([[1,2],[3,4],[5,6]])\n",
    "xb = np.array([[3,4],[5,6],[7,8]])\n",
    "print(np.add(xa, xb))\n",
    "print(np.subtract(xa, xb))\n",
    "print(np.multiply(xa, xb))\n",
    "print(np.sqrt(xa))"
   ]
  },
  {
   "cell_type": "code",
   "execution_count": 82,
   "id": "ce88336f-53fc-4178-9cc8-7fefc35e6a6b",
   "metadata": {},
   "outputs": [
    {
     "name": "stdout",
     "output_type": "stream",
     "text": [
      "[[1.]\n",
      " [1.]] (2, 1) 2\n",
      "[[ 3.]\n",
      " [ 7.]\n",
      " [11.]]\n",
      "[[ 7.]\n",
      " [11.]\n",
      " [15.]]\n"
     ]
    }
   ],
   "source": [
    "xa = np.array([[1,2],[3,4],[5,6]])\n",
    "xb = np.array([[3,4],[5,6],[7,8]])\n",
    "xc = np.ones((2,1))\n",
    "print(xc, xc.shape, xc.ndim)\n",
    "print(xa.dot(xc))\n",
    "print(np.dot(xb,xc))"
   ]
  },
  {
   "cell_type": "code",
   "execution_count": 87,
   "id": "c308b93b-189a-433b-83e0-d6b9d3dc7388",
   "metadata": {},
   "outputs": [
    {
     "name": "stdout",
     "output_type": "stream",
     "text": [
      "[[1 2]\n",
      " [1 2]]\n",
      "[[ 3  6]\n",
      " [ 7 14]\n",
      " [11 22]]\n",
      "[[ 7 14]\n",
      " [11 22]\n",
      " [15 30]]\n"
     ]
    }
   ],
   "source": [
    "xd = np.array([[1,2],[1,2]]); print(xd)\n",
    "print(np.dot(xa,xd)); print(np.dot(xb,xd))"
   ]
  },
  {
   "cell_type": "code",
   "execution_count": 91,
   "id": "b8e4fea7-0456-4344-9ffe-30c4380e76b6",
   "metadata": {},
   "outputs": [
    {
     "name": "stdout",
     "output_type": "stream",
     "text": [
      "[[1 3 5]\n",
      " [2 4 6]]\n",
      "[[ 6  7]\n",
      " [ 8  9]\n",
      " [10 11]]\n",
      "[[3 4]\n",
      " [5 6]\n",
      " [7 8]]\n",
      "[[ 6  7]\n",
      " [ 8  9]\n",
      " [10 11]]\n"
     ]
    }
   ],
   "source": [
    "print(xa.T)\n",
    "print(xb+3)\n",
    "print(xb)\n",
    "xb += 3\n",
    "print(xb)"
   ]
  },
  {
   "cell_type": "code",
   "execution_count": 99,
   "id": "a3491015-325e-4997-b0a4-7332129e5cc1",
   "metadata": {},
   "outputs": [
    {
     "name": "stdout",
     "output_type": "stream",
     "text": [
      "[[1 2 3]\n",
      " [4 5 6]\n",
      " [7 8 9]]\n",
      "[[1.]\n",
      " [1.]\n",
      " [1.]]\n",
      "[[ 2.  3.  4.]\n",
      " [ 5.  6.  7.]\n",
      " [ 8.  9. 10.]]\n",
      "[[2 2 2]]\n",
      "[[ 3  4  5]\n",
      " [ 6  7  8]\n",
      " [ 9 10 11]]\n"
     ]
    }
   ],
   "source": [
    "ya = np.arange(1,10).reshape(3,3); print(ya)\n",
    "yv1 = np.ones((3,1)); print(yv1)\n",
    "yb = ya + yv1; print(yb)\n",
    "yv2 = np.full((1,3), 2); print(yv2)\n",
    "yc = ya + yv2; print(yc)"
   ]
  },
  {
   "cell_type": "code",
   "execution_count": 101,
   "id": "7410302e-7e4a-4c99-848e-23cab7b9bfc2",
   "metadata": {},
   "outputs": [
    {
     "name": "stdout",
     "output_type": "stream",
     "text": [
      "63 7.0 3 11 6.666666666666667 2.581988897471611\n"
     ]
    }
   ],
   "source": [
    "print(yc.sum(), yc.mean(), yc.min(), yc.max(), yc.var(), yc.std())"
   ]
  },
  {
   "cell_type": "code",
   "execution_count": 102,
   "id": "7d8eaffe-ea77-4977-b0da-f660b428970b",
   "metadata": {},
   "outputs": [
    {
     "name": "stdout",
     "output_type": "stream",
     "text": [
      "8 0\n"
     ]
    }
   ],
   "source": [
    "print(yc.argmax(), yc.argmin())"
   ]
  },
  {
   "cell_type": "code",
   "execution_count": 104,
   "id": "74f2974c-2731-4032-beb9-d6058fc481a5",
   "metadata": {},
   "outputs": [
    {
     "name": "stdout",
     "output_type": "stream",
     "text": [
      "[[ 3  4  5]\n",
      " [ 6  7  8]\n",
      " [ 9 10 11]]\n",
      "[6. 7. 8.] [ 4.  7. 10.]\n"
     ]
    }
   ],
   "source": [
    "print(yc);\n",
    "print(yc.mean(axis=0), yc.mean(axis=1))"
   ]
  },
  {
   "cell_type": "code",
   "execution_count": 110,
   "id": "0df8dd17-6fcd-42f7-9790-41c10c305cd8",
   "metadata": {},
   "outputs": [
    {
     "name": "stdout",
     "output_type": "stream",
     "text": [
      "[[ 0  1  2  3  4  5  6]\n",
      " [ 7  8  9 10 11 12 13]\n",
      " [14 15 16 17 18 19 20]]\n",
      "[0 1 2 3 4 5 6] [0 1 2 3]\n",
      "[[ 0  1  2  3  4  5  6]\n",
      " [ 7  8  9 10 11 12 13]]\n",
      "[[0 1 2]\n",
      " [7 8 9]]\n"
     ]
    }
   ],
   "source": [
    "karray = np.arange(21).reshape(3,7); print(karray)\n",
    "print(karray[0], karray[0,:4])\n",
    "print(karray[:2])\n",
    "print(karray[:2, :3])"
   ]
  },
  {
   "cell_type": "code",
   "execution_count": 115,
   "id": "5c0a615b-8348-4084-a11e-fbd2c7ed2713",
   "metadata": {},
   "outputs": [
    {
     "name": "stdout",
     "output_type": "stream",
     "text": [
      "[[ 0  1  2  3  4  5  6]\n",
      " [ 7  8  9 10 11 12 13]\n",
      " [14 15 16 17 18 19 20]]\n",
      "[[ 0  1  2  3  4  5  6]\n",
      " [14 15 16 17 18 19 20]]\n",
      "[[ 1  5]\n",
      " [ 8 12]\n",
      " [15 19]]\n",
      "[[ 1  2  3  4]\n",
      " [ 8  9 10 11]\n",
      " [15 16 17 18]]\n"
     ]
    }
   ],
   "source": [
    "karray = np.arange(21).reshape(3,7); print(karray)\n",
    "print(karray[[0,2]])\n",
    "print(karray[:,[1,5]])\n",
    "print(karray[:,1:5])"
   ]
  },
  {
   "cell_type": "code",
   "execution_count": 122,
   "id": "a8de0f98-a08b-4c53-843d-7a1a7d2a30e4",
   "metadata": {},
   "outputs": [
    {
     "name": "stdout",
     "output_type": "stream",
     "text": [
      "[[ 0  1  2  3  4  5  6]\n",
      " [ 7  8  9 10 11 12 13]\n",
      " [14 15 16 17 18 19 20]]\n",
      "[ 0  1  2  3  4  5  6  7  8  9 10 11 12 13 14 15 16 17 18 19 20] (21,)\n",
      "[ 0  1  2  3  4  5  6  7  8  9 10 11 12 13 14 15 16 17 18 19 20]\n",
      "[[ 0  1  2  3  4  5  6  7  8  9 10 11 12 13 14 15 16 17 18 19 20]] (1, 21)\n",
      "[ 0  1  2  3  4  5  6  7  8  9 10 11 12 13 14 15 16 17 18 19 20] (21,)\n",
      "[[ 0  1  2  3  4  5  6]\n",
      " [ 7  8  9 10 11 12 13]\n",
      " [14 15 16 17 18 19 20]] (3, 7)\n"
     ]
    }
   ],
   "source": [
    "karray = np.arange(21).reshape(3,7); print(karray)\n",
    "fkarray = karray.flatten()\n",
    "print(fkarray, fkarray.shape)\n",
    "\n",
    "fkarray1 = np.array(karray.flat)\n",
    "print(fkarray1)\n",
    "\n",
    "rfkarray = karray.reshape(1, 21)\n",
    "print(rfkarray, rfkarray.shape)\n",
    "\n",
    "rfkarray = karray.reshape(21, )\n",
    "print(rfkarray, rfkarray.shape)\n",
    "\n",
    "rfkarray.resize(3, 7)\n",
    "print(rfkarray, rfkarray.shape)"
   ]
  },
  {
   "cell_type": "code",
   "execution_count": 129,
   "id": "3dde379a-8ef2-4c20-be0a-fccb914ae8ab",
   "metadata": {},
   "outputs": [
    {
     "name": "stdout",
     "output_type": "stream",
     "text": [
      "[[ 0  1  2  3  4  5  6]\n",
      " [ 7  8  9 10 11 12 13]\n",
      " [14 15 16 17 18 19 20]]\n",
      "[[ 0  1  2  3  4  5]\n",
      " [ 7  8  9 10 11 12]\n",
      " [14 15 16 17 18 19]]\n",
      "[[ 0  1  2]\n",
      " [ 7  8  9]\n",
      " [14 15 16]\n",
      " [ 3  4  5]\n",
      " [10 11 12]\n",
      " [17 18 19]]\n"
     ]
    }
   ],
   "source": [
    "print(karray)\n",
    "karray1 = karray[:, :3]; karray2 = karray[:, 3:6]\n",
    "karrayh = np.hstack([karray1, karray2]); print(karrayh)\n",
    "karrayv = np.vstack([karray1, karray2]); print(karrayv)"
   ]
  },
  {
   "cell_type": "code",
   "execution_count": null,
   "id": "600e8b1f-4e7e-470d-bb65-2c873fcb7605",
   "metadata": {},
   "outputs": [],
   "source": [
    "15 24 "
   ]
  }
 ],
 "metadata": {
  "kernelspec": {
   "display_name": "Python 3 (ipykernel)",
   "language": "python",
   "name": "python3"
  },
  "language_info": {
   "codemirror_mode": {
    "name": "ipython",
    "version": 3
   },
   "file_extension": ".py",
   "mimetype": "text/x-python",
   "name": "python",
   "nbconvert_exporter": "python",
   "pygments_lexer": "ipython3",
   "version": "3.11.8"
  }
 },
 "nbformat": 4,
 "nbformat_minor": 5
}
