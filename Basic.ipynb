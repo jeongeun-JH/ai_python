{
 "cells": [
  {
   "cell_type": "markdown",
   "id": "d106ab01-2ac7-43e1-8869-208ee4668ecd",
   "metadata": {},
   "source": [
    "## Python Basic"
   ]
  },
  {
   "cell_type": "markdown",
   "id": "a566c017-89de-48d3-9382-48bd3b049936",
   "metadata": {},
   "source": [
    "__1. String__"
   ]
  },
  {
   "cell_type": "code",
   "execution_count": null,
   "id": "d25a30ae-9670-422c-8972-6dfdd0879846",
   "metadata": {},
   "outputs": [],
   "source": [
    "- String Type"
   ]
  },
  {
   "cell_type": "code",
   "execution_count": 16,
   "id": "c49c5f1c-3ae7-4448-accc-26c96e6de498",
   "metadata": {},
   "outputs": [
    {
     "name": "stdout",
     "output_type": "stream",
     "text": [
      "This is ...\n",
      "Course name is .. \n",
      " HaHaHa \n",
      "Today is .. \n",
      " BeGoPa \n"
     ]
    }
   ],
   "source": [
    "print('This is ...')\n",
    "print(\"Course name is .. \\n HaHaHa \")\n",
    "print(\"Today is .. \\n BeGoPa \")"
   ]
  },
  {
   "cell_type": "markdown",
   "id": "e00c6d8b-ee49-4bd0-bf61-1c00daa839cc",
   "metadata": {},
   "source": [
    "__2. Integers, floats and decimals__"
   ]
  },
  {
   "cell_type": "code",
   "execution_count": 17,
   "id": "73ce0e9c-8d01-426e-b364-19028e1783ee",
   "metadata": {},
   "outputs": [
    {
     "data": {
      "text/plain": [
       "40"
      ]
     },
     "execution_count": 17,
     "metadata": {},
     "output_type": "execute_result"
    }
   ],
   "source": [
    "# addition :\n",
    "# comments \n",
    "23+17"
   ]
  },
  {
   "cell_type": "code",
   "execution_count": 18,
   "id": "cf4c2445-ccb2-48e8-b114-6755d4b83af8",
   "metadata": {},
   "outputs": [
    {
     "data": {
      "text/plain": [
       "0.6666666666666666"
      ]
     },
     "execution_count": 18,
     "metadata": {},
     "output_type": "execute_result"
    }
   ],
   "source": [
    "2/3"
   ]
  },
  {
   "cell_type": "markdown",
   "id": "2f34efd1-ab60-4b11-b135-51a24699e6d5",
   "metadata": {},
   "source": [
    "x = 23; y = 17\n",
    "print(x + y)\n",
    "print(x + y, x - y, x * y, x/y)\n",
    "print('JH' + ' LOVE')"
   ]
  },
  {
   "cell_type": "markdown",
   "id": "d02269bb-4256-4db2-8fff-ea998d53c1fb",
   "metadata": {},
   "source": [
    "__3. Data Types__"
   ]
  },
  {
   "cell_type": "markdown",
   "id": "56f3cac2-6c21-458f-93bc-9fc8b4ca67fe",
   "metadata": {},
   "source": [
    "# addition\n",
    "y = 5 # assign a value to the variable y.\n",
    "z = 7.5\n",
    "print('y + z =', y + z)\n",
    "# subtraction\n",
    "print('y - z =', y - z)\n",
    "# multiplication\n",
    "print('y * z = ', y * z)\n",
    "#division\n",
    "print('z / y = ', z / y)\n",
    "#exponent\n",
    "print('y**2 =', y**2)\n",
    "# floor division\n",
    "print('z//y = ', z//y)\n",
    "#remainder\n",
    "print('z%y = ', z%y)\n",
    "print(type(y))\n",
    "print(type(z))"
   ]
  },
  {
   "cell_type": "markdown",
   "id": "ba89c441-fc7a-4de7-b141-5c0000037a5b",
   "metadata": {},
   "source": [
    "__4. String, Boolean, and triple quoted strings__"
   ]
  },
  {
   "cell_type": "code",
   "execution_count": 42,
   "id": "eb117363-3838-40da-8f7f-3de47c399ae7",
   "metadata": {},
   "outputs": [
    {
     "name": "stdout",
     "output_type": "stream",
     "text": [
      "True\n",
      "False\n",
      "<class 'bool'> True\n"
     ]
    }
   ],
   "source": [
    "print( 7 > 3 )\n",
    "print( 3 > 7 )\n",
    "x = 7 > 3\n",
    "print(type(x), x)"
   ]
  },
  {
   "cell_type": "code",
   "execution_count": 46,
   "id": "9e4a6b2f-3409-46b8-becd-ba8c5452fb0e",
   "metadata": {},
   "outputs": [
    {
     "data": {
      "text/plain": [
       "' hahahaha '"
      ]
     },
     "execution_count": 46,
     "metadata": {},
     "output_type": "execute_result"
    }
   ],
   "source": [
    "\"\"\" I love JH \n",
    "''' L.O.V.E '''\n",
    "\"\"\"\n",
    "''' hahahaha '''"
   ]
  },
  {
   "cell_type": "markdown",
   "id": "33f3064e-5675-41fe-9c5b-99e0b3510872",
   "metadata": {},
   "source": [
    "__5. Taking input values__"
   ]
  },
  {
   "cell_type": "code",
   "execution_count": 47,
   "id": "e5d621b5-9fa0-4312-867d-b84363c632a5",
   "metadata": {},
   "outputs": [
    {
     "name": "stdin",
     "output_type": "stream",
     "text": [
      "What is your name? JH\n"
     ]
    },
    {
     "name": "stdout",
     "output_type": "stream",
     "text": [
      "JH\n"
     ]
    }
   ],
   "source": [
    "your_name = input('What is your name?')\n",
    "print(your_name)"
   ]
  },
  {
   "cell_type": "code",
   "execution_count": 53,
   "id": "93f54750-6751-4bd1-8fff-e40521f6d099",
   "metadata": {},
   "outputs": [
    {
     "name": "stdin",
     "output_type": "stream",
     "text": [
      "How old are you? 35\n"
     ]
    },
    {
     "name": "stdout",
     "output_type": "stream",
     "text": [
      "35 <class 'str'>\n"
     ]
    }
   ],
   "source": [
    "your_age = input('How old are you?')\n",
    "print(your_age, type(your_age))"
   ]
  },
  {
   "cell_type": "code",
   "execution_count": 54,
   "id": "4ee2ec98-2d09-4112-b297-d3aea5e83f0f",
   "metadata": {},
   "outputs": [
    {
     "name": "stdin",
     "output_type": "stream",
     "text": [
      "How old am I? 20\n"
     ]
    },
    {
     "name": "stdout",
     "output_type": "stream",
     "text": [
      "3520\n"
     ]
    }
   ],
   "source": [
    "my_age = input('How old am I?')\n",
    "print(your_age + my_age)"
   ]
  },
  {
   "cell_type": "code",
   "execution_count": 56,
   "id": "8230e6ef-5fd3-4419-ab39-856cce1ddd35",
   "metadata": {},
   "outputs": [
    {
     "name": "stdout",
     "output_type": "stream",
     "text": [
      "55\n"
     ]
    },
    {
     "data": {
      "text/plain": [
       "21"
      ]
     },
     "execution_count": 56,
     "metadata": {},
     "output_type": "execute_result"
    }
   ],
   "source": [
    "print(int(your_age) + int(my_age))\n",
    "int(21.8)"
   ]
  },
  {
   "cell_type": "code",
   "execution_count": 57,
   "id": "ddb225a2-0f98-4e3c-8f83-5d9b67d8d771",
   "metadata": {},
   "outputs": [
    {
     "name": "stdout",
     "output_type": "stream",
     "text": [
      "55.0\n"
     ]
    }
   ],
   "source": [
    "print(float(your_age) + float(my_age))"
   ]
  },
  {
   "cell_type": "markdown",
   "id": "106a51a6-f6c5-4650-9d20-fa97f88f2b74",
   "metadata": {},
   "source": [
    "__6. if__"
   ]
  },
  {
   "cell_type": "code",
   "execution_count": 60,
   "id": "7ae5e96d-4361-4f16-82c8-7a439ef5846a",
   "metadata": {},
   "outputs": [
    {
     "name": "stdin",
     "output_type": "stream",
     "text": [
      "Enter an Integer 1234\n"
     ]
    },
    {
     "name": "stdout",
     "output_type": "stream",
     "text": [
      "x does not have a value of 1\n"
     ]
    }
   ],
   "source": [
    "x = int(input('Enter an Integer'))\n",
    "\n",
    "if x == 1:\n",
    "    print('x has a value of 1')\n",
    "else:\n",
    "    print('x does not have a value of 1')"
   ]
  },
  {
   "cell_type": "code",
   "execution_count": 62,
   "id": "02b2c1be-f90c-4948-baf2-39df6d67bf3a",
   "metadata": {},
   "outputs": [
    {
     "name": "stdin",
     "output_type": "stream",
     "text": [
      "Enter an Integer -1\n"
     ]
    },
    {
     "name": "stdout",
     "output_type": "stream",
     "text": [
      "var1 =  -1  is negative.\n"
     ]
    },
    {
     "name": "stdin",
     "output_type": "stream",
     "text": [
      "Enter an Integer -1\n"
     ]
    },
    {
     "name": "stdout",
     "output_type": "stream",
     "text": [
      "The second integer is negative and its value is  -1\n"
     ]
    }
   ],
   "source": [
    "var1 = int(input('Enter an Integer'))\n",
    "\n",
    "if var1 < 0:\n",
    "    print('var1 = ', var1, ' is negative.')\n",
    "    \n",
    "var2 = int(input('Enter an Integer'))\n",
    "\n",
    "if var2 < 0:\n",
    "    print('The second integer is negative', \"and its value is \", var2)\n",
    "else:\n",
    "    print('The second integer is positive', \"and its value is \", var2)"
   ]
  },
  {
   "cell_type": "code",
   "execution_count": 63,
   "id": "fa7c122a-cac7-4481-9816-a781f6e1d3ea",
   "metadata": {},
   "outputs": [
    {
     "name": "stdout",
     "output_type": "stream",
     "text": [
      "1234 <class 'int'>\n"
     ]
    }
   ],
   "source": [
    "print(x, type(x))"
   ]
  },
  {
   "cell_type": "code",
   "execution_count": 66,
   "id": "8296fa23-91b7-4cc1-a9a1-ac1d1f35b0ba",
   "metadata": {},
   "outputs": [
    {
     "name": "stdout",
     "output_type": "stream",
     "text": [
      "2.5 <class 'float'>\n"
     ]
    }
   ],
   "source": [
    "x = 2.5\n",
    "print(x, type(x))"
   ]
  },
  {
   "cell_type": "code",
   "execution_count": 67,
   "id": "caec46d8-3ae0-417a-a719-1f3c92cd259c",
   "metadata": {},
   "outputs": [
    {
     "name": "stdout",
     "output_type": "stream",
     "text": [
      "love <class 'str'>\n"
     ]
    }
   ],
   "source": [
    "x = 'love'\n",
    "print(x, type(x))"
   ]
  },
  {
   "cell_type": "code",
   "execution_count": 68,
   "id": "85d04327-6236-4d35-bd1d-df0d7aaa7fa2",
   "metadata": {},
   "outputs": [
    {
     "name": "stdout",
     "output_type": "stream",
     "text": [
      "Hello!!\n",
      "This Love is True!!! \n",
      " LJH\n"
     ]
    }
   ],
   "source": [
    "print('Hello!!'); print('This Love is True!!! \\n LJH i miss u')"
   ]
  },
  {
   "cell_type": "markdown",
   "id": "73987892-25e3-4e27-aae8-11af9f78607d",
   "metadata": {},
   "source": [
    "__1. if elif__"
   ]
  },
  {
   "cell_type": "code",
   "execution_count": 76,
   "id": "12631be5-501c-4911-9942-127ad10900f2",
   "metadata": {},
   "outputs": [
    {
     "name": "stdin",
     "output_type": "stream",
     "text": [
      "Type your weight 49\n"
     ]
    },
    {
     "name": "stdout",
     "output_type": "stream",
     "text": [
      "thin\n",
      "Eat more!\n"
     ]
    }
   ],
   "source": [
    "weight = int(input('Type your weight'))\n",
    "\n",
    "if weight >= 90:\n",
    "    print('fat!!', 'Exercise!')\n",
    "elif weight >= 60:\n",
    "    print('normal')\n",
    "else:\n",
    "    print('thin\\nEat more!')"
   ]
  },
  {
   "cell_type": "code",
   "execution_count": 79,
   "id": "0ed7102f-5e5e-458f-aea3-b73bb2c4e26a",
   "metadata": {},
   "outputs": [
    {
     "name": "stdin",
     "output_type": "stream",
     "text": [
      "Type your weight 55\n",
      "Type your height 150\n"
     ]
    },
    {
     "name": "stdout",
     "output_type": "stream",
     "text": [
      "thin\n",
      "Eat more!\n"
     ]
    }
   ],
   "source": [
    "weight = int(input('Type your weight'))\n",
    "height = int(input('Type your height'))\n",
    "\n",
    "if weight >= 90 and height <= 150:\n",
    "    print('fat!!', 'Exercise!')\n",
    "elif weight >= 60 or 160 <=  height < 180:\n",
    "    print('normal')\n",
    "else:\n",
    "    print('thin\\nEat more!')"
   ]
  },
  {
   "cell_type": "markdown",
   "id": "fd9226f7-507b-463e-90e3-e348a7706136",
   "metadata": {},
   "source": [
    "__2. while 반복문, f-string 소개__"
   ]
  },
  {
   "cell_type": "code",
   "execution_count": 81,
   "id": "9fe888a7-b633-446f-9cc5-bbff8c2cd3e7",
   "metadata": {
    "scrolled": true
   },
   "outputs": [
    {
     "name": "stdout",
     "output_type": "stream",
     "text": [
      "2\n",
      "4\n",
      "8\n",
      "16\n",
      "32\n",
      "64\n",
      "128\n"
     ]
    }
   ],
   "source": [
    "# calculating powers of 2\n",
    "k = 1 \n",
    "\n",
    "while k <= 100:\n",
    "    k = k*2\n",
    "    print(k)\n",
    "    "
   ]
  },
  {
   "cell_type": "code",
   "execution_count": 84,
   "id": "fc5d3c47-65e9-48c5-a5be-4edb5645d52d",
   "metadata": {},
   "outputs": [
    {
     "name": "stdout",
     "output_type": "stream",
     "text": [
      "9 8 7 6 5 4 3 2 1 0 "
     ]
    }
   ],
   "source": [
    "# substring 1 repeatedly\n",
    "\n",
    "l = 10\n",
    "while l > 0:\n",
    "    l = l - 1\n",
    "    print(l, end = ' ')"
   ]
  },
  {
   "cell_type": "markdown",
   "id": "0b69d929-f1a7-4e89-abed-ddf5a5ea34f8",
   "metadata": {},
   "source": [
    "### hihi\n",
    "total = 0\n",
    "counter = 0\n",
    "\n",
    "grade = int(input('Enter grate or -1 to end: '))\n",
    "\n",
    "while grade != -1:\n",
    "    total += grade\n",
    "    counter += 1\n",
    "    grade = int(input('Enter grate or -1 to end: '))\n",
    "\n",
    "if counter != 0:\n",
    "    average = total / counter\n",
    "    print('Total grade is', total)\n",
    "    print('The number of students is', counter)\n",
    "    print(f'Class Average is {average}')\n",
    "else:\n",
    "    print('No grades were entered')\n",
    "    "
   ]
  },
  {
   "cell_type": "markdown",
   "id": "25948601-df9a-457b-8f9a-a31ef9f5d55a",
   "metadata": {},
   "source": [
    "__3. for 반복문__"
   ]
  },
  {
   "cell_type": "code",
   "execution_count": 90,
   "id": "9e0b5a7a-d118-4488-8aaa-fd096b099364",
   "metadata": {},
   "outputs": [
    {
     "name": "stdout",
     "output_type": "stream",
     "text": [
      "item : 1\n",
      "item : 2\n",
      "item : 3\n",
      "item : 4\n",
      "item : 5\n",
      "letters : A\n",
      "letters : B\n",
      "letters : C\n",
      "letters : D\n"
     ]
    }
   ],
   "source": [
    "for item in [1,2,3,4,5]:\n",
    "    print('item :', item)\n",
    "\n",
    "letters = ['A','B','C','D']\n",
    "for i in letters:\n",
    "    print('letters :', i)"
   ]
  },
  {
   "cell_type": "code",
   "execution_count": 91,
   "id": "9171b351-0429-467b-b80a-77ba328f51a2",
   "metadata": {},
   "outputs": [
    {
     "name": "stdout",
     "output_type": "stream",
     "text": [
      "Each letter : A\n",
      "Each letter : B\n",
      "Each letter : C\n",
      "Each letter : D\n",
      "P y t h o n P r o g r a m i n g \n",
      "25\n"
     ]
    }
   ],
   "source": [
    "for i in range(len(letters)):\n",
    "    print('Each letter :', letters[i])\n",
    "\n",
    "for i in 'PythonPrograming':\n",
    "    print(i, end = ' ')\n",
    "\n",
    "print()\n",
    "total = 0\n",
    "for number in [2, -3, 0, 17, 9]:\n",
    "    total = total + number\n",
    "print(total)"
   ]
  },
  {
   "cell_type": "markdown",
   "id": "10bfd5c7-f1b9-4d5d-9f99-8b28fe2b758a",
   "metadata": {},
   "source": [
    "__4. Augmented assignment__ "
   ]
  },
  {
   "cell_type": "code",
   "execution_count": 93,
   "id": "85ef8668-ae57-4073-a08f-8abd617fcc16",
   "metadata": {},
   "outputs": [
    {
     "name": "stdout",
     "output_type": "stream",
     "text": [
      "0 1 2 3 4 5 6 7 8 9 "
     ]
    },
    {
     "data": {
      "text/plain": [
       "45"
      ]
     },
     "execution_count": 93,
     "metadata": {},
     "output_type": "execute_result"
    }
   ],
   "source": [
    "total = 0\n",
    "for i in range(10):\n",
    "    print(i, end = ' ')\n",
    "    total += i\n",
    "total"
   ]
  },
  {
   "cell_type": "markdown",
   "id": "f1efd3f2-4268-42ec-b46f-1013e4d967c0",
   "metadata": {},
   "source": [
    "__5.Making a for loop with augmented assignments__"
   ]
  },
  {
   "cell_type": "code",
   "execution_count": 97,
   "id": "05b621e7-fd1c-4a4f-9cd1-009a7294a26a",
   "metadata": {},
   "outputs": [
    {
     "name": "stdout",
     "output_type": "stream",
     "text": [
      "Class average is 81.7\n",
      "Average is 81.70\n"
     ]
    }
   ],
   "source": [
    "total = 0\n",
    "NumStudents = 0\n",
    "grades = [98, 76, 71, 87, 83, 90, 57, 79, 82, 94]\n",
    "for i in grades:\n",
    "    total += i\n",
    "    NumStudents += 1\n",
    "average = total/NumStudents\n",
    "print(f'Class average is {average}')\n",
    "print(f'Average is {total/NumStudents:.2f}')"
   ]
  },
  {
   "cell_type": "markdown",
   "id": "0327d269-d49b-409a-97db-3358a4598f27",
   "metadata": {},
   "source": [
    "__6. A built-in function, range__"
   ]
  },
  {
   "cell_type": "code",
   "execution_count": 98,
   "id": "0b983fb8-d1a9-4ada-bada-ae5596d69011",
   "metadata": {},
   "outputs": [
    {
     "name": "stdout",
     "output_type": "stream",
     "text": [
      "7, 8, 9, 10, 11, 12, 13, 14, 15, 16, 17, 18, 19, "
     ]
    }
   ],
   "source": [
    "# range\n",
    "for i in range(7, 20):\n",
    "    print(i, end=', ')"
   ]
  },
  {
   "cell_type": "code",
   "execution_count": 1,
   "id": "18297616-c611-4ae2-92c1-2757c708897f",
   "metadata": {},
   "outputs": [
    {
     "name": "stdout",
     "output_type": "stream",
     "text": [
      "\n",
      "10, 13, 16, 19, "
     ]
    }
   ],
   "source": [
    "print()\n",
    "for i in range(10, 20, 3):\n",
    "    print(i, end=', ')"
   ]
  },
  {
   "cell_type": "code",
   "execution_count": 3,
   "id": "f85755d1-345a-4be8-b00e-efcdc7234dd4",
   "metadata": {},
   "outputs": [
    {
     "name": "stdout",
     "output_type": "stream",
     "text": [
      "\n",
      "15, 13, 11, 9, 7, 5, 3, 1, "
     ]
    }
   ],
   "source": [
    "print()\n",
    "for i in range(15, 0, -2):\n",
    "    print(i, end=', ')"
   ]
  },
  {
   "cell_type": "markdown",
   "id": "7bc1611b-db8f-46c7-8caa-4387668728d6",
   "metadata": {},
   "source": [
    "__7.Advanced use of while and for loops__"
   ]
  },
  {
   "cell_type": "code",
   "execution_count": 4,
   "id": "6ef8ff5c-5466-4a13-8d54-f1344f9a5a6f",
   "metadata": {},
   "outputs": [
    {
     "name": "stdout",
     "output_type": "stream",
     "text": [
      "9 8 7 6 5 4 3 2 1 0 \n",
      "Loop ended 0\n"
     ]
    }
   ],
   "source": [
    "l = 10\n",
    "while l > 0:\n",
    "    l -= 1\n",
    "    print(l, end = ' ')\n",
    "print()\n",
    "print('Loop ended', l)"
   ]
  },
  {
   "cell_type": "code",
   "execution_count": 6,
   "id": "0e09070b-1b47-4e63-b7ab-19eb84ff1285",
   "metadata": {},
   "outputs": [
    {
     "name": "stdout",
     "output_type": "stream",
     "text": [
      "9 8 7 6 \n",
      "Loop ended 5\n"
     ]
    }
   ],
   "source": [
    "l = 10\n",
    "while l > 0:\n",
    "    l -= 1\n",
    "    if l == 5:\n",
    "        break\n",
    "    print(l, end = ' ')\n",
    "print()\n",
    "print('Loop ended', l)"
   ]
  },
  {
   "cell_type": "code",
   "execution_count": 15,
   "id": "941a1315-c2f7-4b7a-87fb-03b5225d33cb",
   "metadata": {},
   "outputs": [
    {
     "name": "stdout",
     "output_type": "stream",
     "text": [
      "Loop ended 9\n",
      "Loop ended 8\n",
      "Loop ended 7\n",
      "Loop ended 6\n"
     ]
    }
   ],
   "source": [
    "l = 10\n",
    "while l > 0:\n",
    "    l -= 1\n",
    "    if l == 5:\n",
    "        break\n",
    "        print(l, end = ' ')\n",
    "    else:\n",
    "        print('Loop ended', l)"
   ]
  },
  {
   "cell_type": "code",
   "execution_count": 10,
   "id": "5010403a-9b1c-4a3d-9be3-453ab6dd3478",
   "metadata": {},
   "outputs": [
    {
     "name": "stdout",
     "output_type": "stream",
     "text": [
      "P y t h n "
     ]
    }
   ],
   "source": [
    "for i in 'Python':\n",
    "    if i == 'o':\n",
    "        continue\n",
    "    print(i, end = ' ')"
   ]
  }
 ],
 "metadata": {
  "kernelspec": {
   "display_name": "Python 3 (ipykernel)",
   "language": "python",
   "name": "python3"
  },
  "language_info": {
   "codemirror_mode": {
    "name": "ipython",
    "version": 3
   },
   "file_extension": ".py",
   "mimetype": "text/x-python",
   "name": "python",
   "nbconvert_exporter": "python",
   "pygments_lexer": "ipython3",
   "version": "3.11.8"
  }
 },
 "nbformat": 4,
 "nbformat_minor": 5
}
