{
 "cells": [
  {
   "cell_type": "markdown",
   "id": "d106ab01-2ac7-43e1-8869-208ee4668ecd",
   "metadata": {},
   "source": [
    "## Python Basic"
   ]
  },
  {
   "cell_type": "markdown",
   "id": "a566c017-89de-48d3-9382-48bd3b049936",
   "metadata": {},
   "source": [
    "__1. String__"
   ]
  },
  {
   "cell_type": "code",
   "execution_count": null,
   "id": "d25a30ae-9670-422c-8972-6dfdd0879846",
   "metadata": {},
   "outputs": [],
   "source": [
    "- String Type"
   ]
  },
  {
   "cell_type": "code",
   "execution_count": 16,
   "id": "c49c5f1c-3ae7-4448-accc-26c96e6de498",
   "metadata": {},
   "outputs": [
    {
     "name": "stdout",
     "output_type": "stream",
     "text": [
      "This is ...\n",
      "Course name is .. \n",
      " HaHaHa \n",
      "Today is .. \n",
      " BeGoPa \n"
     ]
    }
   ],
   "source": [
    "print('This is ...')\n",
    "print(\"Course name is .. \\n HaHaHa \")\n",
    "print(\"Today is .. \\n BeGoPa \")"
   ]
  },
  {
   "cell_type": "markdown",
   "id": "e00c6d8b-ee49-4bd0-bf61-1c00daa839cc",
   "metadata": {},
   "source": [
    "__2. Integers, floats and decimals__"
   ]
  },
  {
   "cell_type": "code",
   "execution_count": 17,
   "id": "73ce0e9c-8d01-426e-b364-19028e1783ee",
   "metadata": {},
   "outputs": [
    {
     "data": {
      "text/plain": [
       "40"
      ]
     },
     "execution_count": 17,
     "metadata": {},
     "output_type": "execute_result"
    }
   ],
   "source": [
    "# addition :\n",
    "# comments \n",
    "23+17"
   ]
  },
  {
   "cell_type": "code",
   "execution_count": 18,
   "id": "cf4c2445-ccb2-48e8-b114-6755d4b83af8",
   "metadata": {},
   "outputs": [
    {
     "data": {
      "text/plain": [
       "0.6666666666666666"
      ]
     },
     "execution_count": 18,
     "metadata": {},
     "output_type": "execute_result"
    }
   ],
   "source": [
    "2/3"
   ]
  },
  {
   "cell_type": "markdown",
   "id": "2f34efd1-ab60-4b11-b135-51a24699e6d5",
   "metadata": {},
   "source": [
    "x = 23; y = 17\n",
    "print(x + y)\n",
    "print(x + y, x - y, x * y, x/y)\n",
    "print('JH' + ' LOVE')"
   ]
  },
  {
   "cell_type": "markdown",
   "id": "d02269bb-4256-4db2-8fff-ea998d53c1fb",
   "metadata": {},
   "source": [
    "__3. Data Types__"
   ]
  },
  {
   "cell_type": "markdown",
   "id": "56f3cac2-6c21-458f-93bc-9fc8b4ca67fe",
   "metadata": {},
   "source": [
    "# addition\n",
    "y = 5 # assign a value to the variable y.\n",
    "z = 7.5\n",
    "print('y + z =', y + z)\n",
    "# subtraction\n",
    "print('y - z =', y - z)\n",
    "# multiplication\n",
    "print('y * z = ', y * z)\n",
    "#division\n",
    "print('z / y = ', z / y)\n",
    "#exponent\n",
    "print('y**2 =', y**2)\n",
    "# floor division\n",
    "print('z//y = ', z//y)\n",
    "#remainder\n",
    "print('z%y = ', z%y)\n",
    "print(type(y))\n",
    "print(type(z))"
   ]
  },
  {
   "cell_type": "markdown",
   "id": "ba89c441-fc7a-4de7-b141-5c0000037a5b",
   "metadata": {},
   "source": [
    "__4. String, Boolean, and triple quoted strings__"
   ]
  },
  {
   "cell_type": "code",
   "execution_count": 42,
   "id": "eb117363-3838-40da-8f7f-3de47c399ae7",
   "metadata": {},
   "outputs": [
    {
     "name": "stdout",
     "output_type": "stream",
     "text": [
      "True\n",
      "False\n",
      "<class 'bool'> True\n"
     ]
    }
   ],
   "source": [
    "print( 7 > 3 )\n",
    "print( 3 > 7 )\n",
    "x = 7 > 3\n",
    "print(type(x), x)"
   ]
  },
  {
   "cell_type": "code",
   "execution_count": 46,
   "id": "9e4a6b2f-3409-46b8-becd-ba8c5452fb0e",
   "metadata": {},
   "outputs": [
    {
     "data": {
      "text/plain": [
       "' hahahaha '"
      ]
     },
     "execution_count": 46,
     "metadata": {},
     "output_type": "execute_result"
    }
   ],
   "source": [
    "\"\"\" I love JH \n",
    "''' L.O.V.E '''\n",
    "\"\"\"\n",
    "''' hahahaha '''"
   ]
  },
  {
   "cell_type": "markdown",
   "id": "33f3064e-5675-41fe-9c5b-99e0b3510872",
   "metadata": {},
   "source": [
    "__5. Taking input values__"
   ]
  },
  {
   "cell_type": "code",
   "execution_count": 47,
   "id": "e5d621b5-9fa0-4312-867d-b84363c632a5",
   "metadata": {},
   "outputs": [
    {
     "name": "stdin",
     "output_type": "stream",
     "text": [
      "What is your name? JH\n"
     ]
    },
    {
     "name": "stdout",
     "output_type": "stream",
     "text": [
      "JH\n"
     ]
    }
   ],
   "source": [
    "your_name = input('What is your name?')\n",
    "print(your_name)"
   ]
  },
  {
   "cell_type": "code",
   "execution_count": 53,
   "id": "93f54750-6751-4bd1-8fff-e40521f6d099",
   "metadata": {},
   "outputs": [
    {
     "name": "stdin",
     "output_type": "stream",
     "text": [
      "How old are you? 35\n"
     ]
    },
    {
     "name": "stdout",
     "output_type": "stream",
     "text": [
      "35 <class 'str'>\n"
     ]
    }
   ],
   "source": [
    "your_age = input('How old are you?')\n",
    "print(your_age, type(your_age))"
   ]
  },
  {
   "cell_type": "code",
   "execution_count": 54,
   "id": "4ee2ec98-2d09-4112-b297-d3aea5e83f0f",
   "metadata": {},
   "outputs": [
    {
     "name": "stdin",
     "output_type": "stream",
     "text": [
      "How old am I? 20\n"
     ]
    },
    {
     "name": "stdout",
     "output_type": "stream",
     "text": [
      "3520\n"
     ]
    }
   ],
   "source": [
    "my_age = input('How old am I?')\n",
    "print(your_age + my_age)"
   ]
  },
  {
   "cell_type": "code",
   "execution_count": 56,
   "id": "8230e6ef-5fd3-4419-ab39-856cce1ddd35",
   "metadata": {},
   "outputs": [
    {
     "name": "stdout",
     "output_type": "stream",
     "text": [
      "55\n"
     ]
    },
    {
     "data": {
      "text/plain": [
       "21"
      ]
     },
     "execution_count": 56,
     "metadata": {},
     "output_type": "execute_result"
    }
   ],
   "source": [
    "print(int(your_age) + int(my_age))\n",
    "int(21.8)"
   ]
  },
  {
   "cell_type": "code",
   "execution_count": 57,
   "id": "ddb225a2-0f98-4e3c-8f83-5d9b67d8d771",
   "metadata": {},
   "outputs": [
    {
     "name": "stdout",
     "output_type": "stream",
     "text": [
      "55.0\n"
     ]
    }
   ],
   "source": [
    "print(float(your_age) + float(my_age))"
   ]
  },
  {
   "cell_type": "markdown",
   "id": "106a51a6-f6c5-4650-9d20-fa97f88f2b74",
   "metadata": {},
   "source": [
    "__6. if__"
   ]
  },
  {
   "cell_type": "code",
   "execution_count": 60,
   "id": "7ae5e96d-4361-4f16-82c8-7a439ef5846a",
   "metadata": {},
   "outputs": [
    {
     "name": "stdin",
     "output_type": "stream",
     "text": [
      "Enter an Integer 1234\n"
     ]
    },
    {
     "name": "stdout",
     "output_type": "stream",
     "text": [
      "x does not have a value of 1\n"
     ]
    }
   ],
   "source": [
    "x = int(input('Enter an Integer'))\n",
    "\n",
    "if x == 1:\n",
    "    print('x has a value of 1')\n",
    "else:\n",
    "    print('x does not have a value of 1')"
   ]
  },
  {
   "cell_type": "code",
   "execution_count": 62,
   "id": "02b2c1be-f90c-4948-baf2-39df6d67bf3a",
   "metadata": {},
   "outputs": [
    {
     "name": "stdin",
     "output_type": "stream",
     "text": [
      "Enter an Integer -1\n"
     ]
    },
    {
     "name": "stdout",
     "output_type": "stream",
     "text": [
      "var1 =  -1  is negative.\n"
     ]
    },
    {
     "name": "stdin",
     "output_type": "stream",
     "text": [
      "Enter an Integer -1\n"
     ]
    },
    {
     "name": "stdout",
     "output_type": "stream",
     "text": [
      "The second integer is negative and its value is  -1\n"
     ]
    }
   ],
   "source": [
    "var1 = int(input('Enter an Integer'))\n",
    "\n",
    "if var1 < 0:\n",
    "    print('var1 = ', var1, ' is negative.')\n",
    "    \n",
    "var2 = int(input('Enter an Integer'))\n",
    "\n",
    "if var2 < 0:\n",
    "    print('The second integer is negative', \"and its value is \", var2)\n",
    "else:\n",
    "    print('The second integer is positive', \"and its value is \", var2)"
   ]
  },
  {
   "cell_type": "code",
   "execution_count": 63,
   "id": "fa7c122a-cac7-4481-9816-a781f6e1d3ea",
   "metadata": {},
   "outputs": [
    {
     "name": "stdout",
     "output_type": "stream",
     "text": [
      "1234 <class 'int'>\n"
     ]
    }
   ],
   "source": [
    "print(x, type(x))"
   ]
  },
  {
   "cell_type": "code",
   "execution_count": 66,
   "id": "8296fa23-91b7-4cc1-a9a1-ac1d1f35b0ba",
   "metadata": {},
   "outputs": [
    {
     "name": "stdout",
     "output_type": "stream",
     "text": [
      "2.5 <class 'float'>\n"
     ]
    }
   ],
   "source": [
    "x = 2.5\n",
    "print(x, type(x))"
   ]
  },
  {
   "cell_type": "code",
   "execution_count": 67,
   "id": "caec46d8-3ae0-417a-a719-1f3c92cd259c",
   "metadata": {},
   "outputs": [
    {
     "name": "stdout",
     "output_type": "stream",
     "text": [
      "love <class 'str'>\n"
     ]
    }
   ],
   "source": [
    "x = 'love'\n",
    "print(x, type(x))"
   ]
  },
  {
   "cell_type": "code",
   "execution_count": 68,
   "id": "85d04327-6236-4d35-bd1d-df0d7aaa7fa2",
   "metadata": {},
   "outputs": [
    {
     "name": "stdout",
     "output_type": "stream",
     "text": [
      "Hello!!\n",
      "This Love is True!!! \n",
      " LJH\n"
     ]
    }
   ],
   "source": [
    "print('Hello!!'); print('This Love is True!!! \\n LJH i miss u')"
   ]
  },
  {
   "cell_type": "markdown",
   "id": "73987892-25e3-4e27-aae8-11af9f78607d",
   "metadata": {},
   "source": [
    "__1. if elif__"
   ]
  },
  {
   "cell_type": "code",
   "execution_count": 76,
   "id": "12631be5-501c-4911-9942-127ad10900f2",
   "metadata": {},
   "outputs": [
    {
     "name": "stdin",
     "output_type": "stream",
     "text": [
      "Type your weight 49\n"
     ]
    },
    {
     "name": "stdout",
     "output_type": "stream",
     "text": [
      "thin\n",
      "Eat more!\n"
     ]
    }
   ],
   "source": [
    "weight = int(input('Type your weight'))\n",
    "\n",
    "if weight >= 90:\n",
    "    print('fat!!', 'Exercise!')\n",
    "elif weight >= 60:\n",
    "    print('normal')\n",
    "else:\n",
    "    print('thin\\nEat more!')"
   ]
  },
  {
   "cell_type": "code",
   "execution_count": 79,
   "id": "0ed7102f-5e5e-458f-aea3-b73bb2c4e26a",
   "metadata": {},
   "outputs": [
    {
     "name": "stdin",
     "output_type": "stream",
     "text": [
      "Type your weight 55\n",
      "Type your height 150\n"
     ]
    },
    {
     "name": "stdout",
     "output_type": "stream",
     "text": [
      "thin\n",
      "Eat more!\n"
     ]
    }
   ],
   "source": [
    "weight = int(input('Type your weight'))\n",
    "height = int(input('Type your height'))\n",
    "\n",
    "if weight >= 90 and height <= 150:\n",
    "    print('fat!!', 'Exercise!')\n",
    "elif weight >= 60 or 160 <=  height < 180:\n",
    "    print('normal')\n",
    "else:\n",
    "    print('thin\\nEat more!')"
   ]
  },
  {
   "cell_type": "markdown",
   "id": "fd9226f7-507b-463e-90e3-e348a7706136",
   "metadata": {},
   "source": [
    "__2. while 반복문, f-string 소개__"
   ]
  },
  {
   "cell_type": "code",
   "execution_count": 81,
   "id": "9fe888a7-b633-446f-9cc5-bbff8c2cd3e7",
   "metadata": {
    "scrolled": true
   },
   "outputs": [
    {
     "name": "stdout",
     "output_type": "stream",
     "text": [
      "2\n",
      "4\n",
      "8\n",
      "16\n",
      "32\n",
      "64\n",
      "128\n"
     ]
    }
   ],
   "source": [
    "# calculating powers of 2\n",
    "k = 1 \n",
    "\n",
    "while k <= 100:\n",
    "    k = k*2\n",
    "    print(k)\n",
    "    "
   ]
  },
  {
   "cell_type": "code",
   "execution_count": 84,
   "id": "fc5d3c47-65e9-48c5-a5be-4edb5645d52d",
   "metadata": {},
   "outputs": [
    {
     "name": "stdout",
     "output_type": "stream",
     "text": [
      "9 8 7 6 5 4 3 2 1 0 "
     ]
    }
   ],
   "source": [
    "# substring 1 repeatedly\n",
    "\n",
    "l = 10\n",
    "while l > 0:\n",
    "    l = l - 1\n",
    "    print(l, end = ' ')"
   ]
  },
  {
   "cell_type": "markdown",
   "id": "0b69d929-f1a7-4e89-abed-ddf5a5ea34f8",
   "metadata": {},
   "source": [
    "### hihi\n",
    "total = 0\n",
    "counter = 0\n",
    "\n",
    "grade = int(input('Enter grate or -1 to end: '))\n",
    "\n",
    "while grade != -1:\n",
    "    total += grade\n",
    "    counter += 1\n",
    "    grade = int(input('Enter grate or -1 to end: '))\n",
    "\n",
    "if counter != 0:\n",
    "    average = total / counter\n",
    "    print('Total grade is', total)\n",
    "    print('The number of students is', counter)\n",
    "    print(f'Class Average is {average}')\n",
    "else:\n",
    "    print('No grades were entered')\n",
    "    "
   ]
  },
  {
   "cell_type": "markdown",
   "id": "25948601-df9a-457b-8f9a-a31ef9f5d55a",
   "metadata": {},
   "source": [
    "__3. for 반복문__"
   ]
  },
  {
   "cell_type": "code",
   "execution_count": 90,
   "id": "9e0b5a7a-d118-4488-8aaa-fd096b099364",
   "metadata": {},
   "outputs": [
    {
     "name": "stdout",
     "output_type": "stream",
     "text": [
      "item : 1\n",
      "item : 2\n",
      "item : 3\n",
      "item : 4\n",
      "item : 5\n",
      "letters : A\n",
      "letters : B\n",
      "letters : C\n",
      "letters : D\n"
     ]
    }
   ],
   "source": [
    "for item in [1,2,3,4,5]:\n",
    "    print('item :', item)\n",
    "\n",
    "letters = ['A','B','C','D']\n",
    "for i in letters:\n",
    "    print('letters :', i)"
   ]
  },
  {
   "cell_type": "code",
   "execution_count": 91,
   "id": "9171b351-0429-467b-b80a-77ba328f51a2",
   "metadata": {},
   "outputs": [
    {
     "name": "stdout",
     "output_type": "stream",
     "text": [
      "Each letter : A\n",
      "Each letter : B\n",
      "Each letter : C\n",
      "Each letter : D\n",
      "P y t h o n P r o g r a m i n g \n",
      "25\n"
     ]
    }
   ],
   "source": [
    "for i in range(len(letters)):\n",
    "    print('Each letter :', letters[i])\n",
    "\n",
    "for i in 'PythonPrograming':\n",
    "    print(i, end = ' ')\n",
    "\n",
    "print()\n",
    "total = 0\n",
    "for number in [2, -3, 0, 17, 9]:\n",
    "    total = total + number\n",
    "print(total)"
   ]
  },
  {
   "cell_type": "markdown",
   "id": "10bfd5c7-f1b9-4d5d-9f99-8b28fe2b758a",
   "metadata": {},
   "source": [
    "__4. Augmented assignment__ "
   ]
  },
  {
   "cell_type": "code",
   "execution_count": 93,
   "id": "85ef8668-ae57-4073-a08f-8abd617fcc16",
   "metadata": {},
   "outputs": [
    {
     "name": "stdout",
     "output_type": "stream",
     "text": [
      "0 1 2 3 4 5 6 7 8 9 "
     ]
    },
    {
     "data": {
      "text/plain": [
       "45"
      ]
     },
     "execution_count": 93,
     "metadata": {},
     "output_type": "execute_result"
    }
   ],
   "source": [
    "total = 0\n",
    "for i in range(10):\n",
    "    print(i, end = ' ')\n",
    "    total += i\n",
    "total"
   ]
  },
  {
   "cell_type": "markdown",
   "id": "f1efd3f2-4268-42ec-b46f-1013e4d967c0",
   "metadata": {},
   "source": [
    "__5.Making a for loop with augmented assignments__"
   ]
  },
  {
   "cell_type": "code",
   "execution_count": 97,
   "id": "05b621e7-fd1c-4a4f-9cd1-009a7294a26a",
   "metadata": {},
   "outputs": [
    {
     "name": "stdout",
     "output_type": "stream",
     "text": [
      "Class average is 81.7\n",
      "Average is 81.70\n"
     ]
    }
   ],
   "source": [
    "total = 0\n",
    "NumStudents = 0\n",
    "grades = [98, 76, 71, 87, 83, 90, 57, 79, 82, 94]\n",
    "for i in grades:\n",
    "    total += i\n",
    "    NumStudents += 1\n",
    "average = total/NumStudents\n",
    "print(f'Class average is {average}')\n",
    "print(f'Average is {total/NumStudents:.2f}')"
   ]
  },
  {
   "cell_type": "markdown",
   "id": "0327d269-d49b-409a-97db-3358a4598f27",
   "metadata": {},
   "source": [
    "__6. A built-in function, range__"
   ]
  },
  {
   "cell_type": "code",
   "execution_count": 98,
   "id": "0b983fb8-d1a9-4ada-bada-ae5596d69011",
   "metadata": {},
   "outputs": [
    {
     "name": "stdout",
     "output_type": "stream",
     "text": [
      "7, 8, 9, 10, 11, 12, 13, 14, 15, 16, 17, 18, 19, "
     ]
    }
   ],
   "source": [
    "# range\n",
    "for i in range(7, 20):\n",
    "    print(i, end=', ')"
   ]
  },
  {
   "cell_type": "code",
   "execution_count": 1,
   "id": "18297616-c611-4ae2-92c1-2757c708897f",
   "metadata": {},
   "outputs": [
    {
     "name": "stdout",
     "output_type": "stream",
     "text": [
      "\n",
      "10, 13, 16, 19, "
     ]
    }
   ],
   "source": [
    "print()\n",
    "for i in range(10, 20, 3):\n",
    "    print(i, end=', ')"
   ]
  },
  {
   "cell_type": "code",
   "execution_count": 3,
   "id": "f85755d1-345a-4be8-b00e-efcdc7234dd4",
   "metadata": {},
   "outputs": [
    {
     "name": "stdout",
     "output_type": "stream",
     "text": [
      "\n",
      "15, 13, 11, 9, 7, 5, 3, 1, "
     ]
    }
   ],
   "source": [
    "print()\n",
    "for i in range(15, 0, -2):\n",
    "    print(i, end=', ')"
   ]
  },
  {
   "cell_type": "markdown",
   "id": "7bc1611b-db8f-46c7-8caa-4387668728d6",
   "metadata": {},
   "source": [
    "__7.Advanced use of while and for loops__"
   ]
  },
  {
   "cell_type": "code",
   "execution_count": 4,
   "id": "6ef8ff5c-5466-4a13-8d54-f1344f9a5a6f",
   "metadata": {},
   "outputs": [
    {
     "name": "stdout",
     "output_type": "stream",
     "text": [
      "9 8 7 6 5 4 3 2 1 0 \n",
      "Loop ended 0\n"
     ]
    }
   ],
   "source": [
    "l = 10\n",
    "while l > 0:\n",
    "    l -= 1\n",
    "    print(l, end = ' ')\n",
    "print()\n",
    "print('Loop ended', l)"
   ]
  },
  {
   "cell_type": "code",
   "execution_count": 6,
   "id": "0e09070b-1b47-4e63-b7ab-19eb84ff1285",
   "metadata": {},
   "outputs": [
    {
     "name": "stdout",
     "output_type": "stream",
     "text": [
      "9 8 7 6 \n",
      "Loop ended 5\n"
     ]
    }
   ],
   "source": [
    "l = 10\n",
    "while l > 0:\n",
    "    l -= 1\n",
    "    if l == 5:\n",
    "        break\n",
    "    print(l, end = ' ')\n",
    "print()\n",
    "print('Loop ended', l)"
   ]
  },
  {
   "cell_type": "code",
   "execution_count": 15,
   "id": "941a1315-c2f7-4b7a-87fb-03b5225d33cb",
   "metadata": {},
   "outputs": [
    {
     "name": "stdout",
     "output_type": "stream",
     "text": [
      "Loop ended 9\n",
      "Loop ended 8\n",
      "Loop ended 7\n",
      "Loop ended 6\n"
     ]
    }
   ],
   "source": [
    "l = 10\n",
    "while l > 0:\n",
    "    l -= 1\n",
    "    if l == 5:\n",
    "        break\n",
    "        print(l, end = ' ')\n",
    "    else:\n",
    "        print('Loop ended', l)"
   ]
  },
  {
   "cell_type": "code",
   "execution_count": 1,
   "id": "5010403a-9b1c-4a3d-9be3-453ab6dd3478",
   "metadata": {},
   "outputs": [
    {
     "name": "stdout",
     "output_type": "stream",
     "text": [
      "P y t h n "
     ]
    }
   ],
   "source": [
    "for i in 'Python':\n",
    "    if i == 'o':\n",
    "        continue\n",
    "    print(i, end = ' ')"
   ]
  },
  {
   "cell_type": "markdown",
   "id": "541d4c0a-c4cf-4756-89cb-98da0bf77c0e",
   "metadata": {},
   "source": [
    "__1. function__"
   ]
  },
  {
   "cell_type": "code",
   "execution_count": 4,
   "id": "75976a19-3088-4ffa-975f-43f9c47b0cc1",
   "metadata": {},
   "outputs": [
    {
     "name": "stdout",
     "output_type": "stream",
     "text": [
      "3.141592653589793\n"
     ]
    }
   ],
   "source": [
    "# \n",
    "import math \n",
    "\n",
    "def circle(radius):\n",
    "    \"\"\" function description \"\"\"\n",
    "    return math.pi*radius**2, 2*math.pi*radius\n",
    "\n",
    "print(math.pi)"
   ]
  },
  {
   "cell_type": "code",
   "execution_count": 5,
   "id": "97a02fe2-2931-43d2-a1c8-b74c7af7eaf9",
   "metadata": {},
   "outputs": [
    {
     "data": {
      "text/plain": [
       "(28.274333882308138, 18.84955592153876)"
      ]
     },
     "execution_count": 5,
     "metadata": {},
     "output_type": "execute_result"
    }
   ],
   "source": [
    "circle(3)"
   ]
  },
  {
   "cell_type": "code",
   "execution_count": 8,
   "id": "75591587-fab7-4c38-9334-910b3da79b67",
   "metadata": {},
   "outputs": [
    {
     "name": "stdout",
     "output_type": "stream",
     "text": [
      "The area and circumference of a circle with 3cm radius are 28.27cm squared and 18.850cm.\n"
     ]
    }
   ],
   "source": [
    "x = 3\n",
    "print(f'The area and circumference of a circle with {x}cm radius \\\n",
    "are {circle(x)[0]:.2f}cm squared and {circle(x)[1]:.3f}cm.')"
   ]
  },
  {
   "cell_type": "code",
   "execution_count": 9,
   "id": "8bfebf43-281b-4c1a-a845-ae5c143b3ee9",
   "metadata": {},
   "outputs": [
    {
     "data": {
      "text/plain": [
       "\u001b[1;31mSignature:\u001b[0m \u001b[0mcircle\u001b[0m\u001b[1;33m(\u001b[0m\u001b[0mradius\u001b[0m\u001b[1;33m)\u001b[0m\u001b[1;33m\u001b[0m\u001b[1;33m\u001b[0m\u001b[0m\n",
       "\u001b[1;31mDocstring:\u001b[0m function description \n",
       "\u001b[1;31mFile:\u001b[0m      c:\\users\\jeongeun_kim\\appdata\\local\\temp\\ipykernel_19960\\2882480736.py\n",
       "\u001b[1;31mType:\u001b[0m      function"
      ]
     },
     "metadata": {},
     "output_type": "display_data"
    }
   ],
   "source": [
    "circle?"
   ]
  },
  {
   "cell_type": "code",
   "execution_count": 10,
   "id": "d2e777be-b453-4dd0-8bf9-db09b2444723",
   "metadata": {},
   "outputs": [
    {
     "data": {
      "text/plain": [
       "(12, 20, 0)"
      ]
     },
     "execution_count": 10,
     "metadata": {},
     "output_type": "execute_result"
    }
   ],
   "source": [
    "def myfunction(x, y):\n",
    "    \"\"\" calc \"\"\"\n",
    "    return x+y, x*y, x%y\n",
    "\n",
    "myfunction(10, 2)"
   ]
  },
  {
   "cell_type": "code",
   "execution_count": 15,
   "id": "baf3bc35-44fd-4766-9cef-d285361fd192",
   "metadata": {},
   "outputs": [
    {
     "name": "stdin",
     "output_type": "stream",
     "text": [
      "1st : 4\n",
      "2nd : 3\n",
      "3rd : 2\n"
     ]
    },
    {
     "data": {
      "text/plain": [
       "2"
      ]
     },
     "execution_count": 15,
     "metadata": {},
     "output_type": "execute_result"
    }
   ],
   "source": [
    "def findmin():\n",
    "    \"\"\" Find ... \"\"\"\n",
    "    x = int(input(\"1st :\"))\n",
    "    y = int(input(\"2nd :\"))\n",
    "    z = int(input(\"3rd :\"))\n",
    "\n",
    "    min = x\n",
    "    if y < min :\n",
    "        min = y\n",
    "    if z < min:\n",
    "        min = z\n",
    "    return min\n",
    "\n",
    "findmin()\n"
   ]
  },
  {
   "cell_type": "code",
   "execution_count": 18,
   "id": "e04c9e3d-6a54-416b-98b6-826dcdfd3af1",
   "metadata": {},
   "outputs": [
    {
     "name": "stdout",
     "output_type": "stream",
     "text": [
      "1\n",
      "12\n"
     ]
    }
   ],
   "source": [
    "x = 12\n",
    "def findmin2(x, y, z):\n",
    "    \"\"\" find min 2 \"\"\"\n",
    "    return min(x, y, z)\n",
    "\n",
    "print(findmin2(3, 2, 1))\n",
    "print(x)"
   ]
  },
  {
   "cell_type": "code",
   "execution_count": 23,
   "id": "0da7d028-ebd6-46cb-b658-55bd7dbbefef",
   "metadata": {},
   "outputs": [
    {
     "name": "stdout",
     "output_type": "stream",
     "text": [
      "3 5\n",
      "5 5\n",
      "2 6\n",
      "15 25 12\n"
     ]
    }
   ],
   "source": [
    "def rectangle(w=3, h=5):\n",
    "    \"\"\" rectangle function \"\"\"\n",
    "    print(w, h)\n",
    "    return w*h\n",
    "\n",
    "print(rectangle(), rectangle(5), rectangle(2,6))"
   ]
  },
  {
   "cell_type": "code",
   "execution_count": 24,
   "id": "dc0e7ad3-b596-48b3-8283-0fd15ca9b96f",
   "metadata": {},
   "outputs": [
    {
     "name": "stdout",
     "output_type": "stream",
     "text": [
      "3 4\n",
      "7 6\n",
      "12 42\n"
     ]
    }
   ],
   "source": [
    "print(rectangle(h=4), rectangle(h=6, w=7))"
   ]
  },
  {
   "cell_type": "code",
   "execution_count": 33,
   "id": "f790eef6-5704-48d0-b9e7-dfd559755aba",
   "metadata": {},
   "outputs": [
    {
     "name": "stdout",
     "output_type": "stream",
     "text": [
      "The area and circumference of a circle with 4cm radius    are 50.27cm squared and 25.133cm.\n",
      "Main function is executed!\n"
     ]
    },
    {
     "data": {
      "text/plain": [
       "'__main__'"
      ]
     },
     "execution_count": 33,
     "metadata": {},
     "output_type": "execute_result"
    }
   ],
   "source": [
    "def main(x):\n",
    "    \"\"\"An excercise of main function\"\"\"\n",
    "    print(f'The area and circumference of a circle with {x}cm radius\\\n",
    "    are {circle(x)[0]:.2f}cm squared and {circle(x)[1]:.3f}cm.')\n",
    "    print('Main function is executed!')\n",
    "    \n",
    "#if __name__ == '__main__':\n",
    "main(4); __name__\n"
   ]
  },
  {
   "cell_type": "code",
   "execution_count": 35,
   "id": "9988945d-0191-4da2-856a-8faf96d1c268",
   "metadata": {},
   "outputs": [
    {
     "name": "stdout",
     "output_type": "stream",
     "text": [
      "The area and circumference of a circle with 10cm radius    are 314.16cm squared and 62.832cm.\n",
      "Main function is executed!\n"
     ]
    }
   ],
   "source": [
    "%run main_function.py"
   ]
  },
  {
   "cell_type": "code",
   "execution_count": 36,
   "id": "510cd7cc-f46d-48b0-ac32-65c34deb47a1",
   "metadata": {},
   "outputs": [
    {
     "name": "stdout",
     "output_type": "stream",
     "text": [
      "The area and circumference of a circle with 10cm radius    are 314.16cm squared and 62.832cm.\n",
      "Main function is executed!\n"
     ]
    }
   ],
   "source": [
    "!python main_function.py"
   ]
  },
  {
   "cell_type": "code",
   "execution_count": 38,
   "id": "47bf11ad-f54c-4e40-a65b-de5797680863",
   "metadata": {},
   "outputs": [
    {
     "name": "stdout",
     "output_type": "stream",
     "text": [
      "(314.1592653589793, 62.83185307179586)\n",
      "main_function\n"
     ]
    }
   ],
   "source": [
    "import main_function as mf\n",
    "\n",
    "print(mf.circle(10))\n",
    "print(mf.__name__)"
   ]
  },
  {
   "cell_type": "code",
   "execution_count": 39,
   "id": "bdf90292-832b-4651-b9fb-ffcfba65ed6f",
   "metadata": {},
   "outputs": [
    {
     "data": {
      "text/plain": [
       "\u001b[1;31mSignature:\u001b[0m \u001b[0mmath\u001b[0m\u001b[1;33m.\u001b[0m\u001b[0mfabs\u001b[0m\u001b[1;33m(\u001b[0m\u001b[0mx\u001b[0m\u001b[1;33m,\u001b[0m \u001b[1;33m/\u001b[0m\u001b[1;33m)\u001b[0m\u001b[1;33m\u001b[0m\u001b[1;33m\u001b[0m\u001b[0m\n",
       "\u001b[1;31mDocstring:\u001b[0m Return the absolute value of the float x.\n",
       "\u001b[1;31mType:\u001b[0m      builtin_function_or_method"
      ]
     },
     "metadata": {},
     "output_type": "display_data"
    }
   ],
   "source": [
    "math.fabs?"
   ]
  },
  {
   "cell_type": "code",
   "execution_count": 42,
   "id": "5c0b672f-aaff-42f1-b0c2-a66eb95b4eae",
   "metadata": {},
   "outputs": [
    {
     "name": "stdout",
     "output_type": "stream",
     "text": [
      "leejunho LEEJUNHO LeeJunHo\n"
     ]
    }
   ],
   "source": [
    "name = 'LeeJunHo'\n",
    "print(name.lower(), name.upper(), name)"
   ]
  },
  {
   "cell_type": "code",
   "execution_count": 46,
   "id": "e06543a5-602c-48db-8c46-dcf105041029",
   "metadata": {},
   "outputs": [
    {
     "name": "stdout",
     "output_type": "stream",
     "text": [
      "3 6 1 5 6 2 1 5 2 5 "
     ]
    }
   ],
   "source": [
    "import random\n",
    "\n",
    "for roll in range(10):\n",
    "    print(random.randrange(1, 7), end=' ')"
   ]
  },
  {
   "cell_type": "code",
   "execution_count": 49,
   "id": "8ea0bebc-5ffc-4486-a260-4a7045393996",
   "metadata": {},
   "outputs": [
    {
     "data": {
      "text/plain": [
       "\u001b[1;31mSignature:\u001b[0m \u001b[0mrandom\u001b[0m\u001b[1;33m.\u001b[0m\u001b[0mrandrange\u001b[0m\u001b[1;33m(\u001b[0m\u001b[0mstart\u001b[0m\u001b[1;33m,\u001b[0m \u001b[0mstop\u001b[0m\u001b[1;33m=\u001b[0m\u001b[1;32mNone\u001b[0m\u001b[1;33m,\u001b[0m \u001b[0mstep\u001b[0m\u001b[1;33m=\u001b[0m\u001b[1;36m1\u001b[0m\u001b[1;33m)\u001b[0m\u001b[1;33m\u001b[0m\u001b[1;33m\u001b[0m\u001b[0m\n",
       "\u001b[1;31mDocstring:\u001b[0m\n",
       "Choose a random item from range(stop) or range(start, stop[, step]).\n",
       "\n",
       "Roughly equivalent to ``choice(range(start, stop, step))`` but\n",
       "supports arbitrarily large ranges and is optimized for common cases.\n",
       "\u001b[1;31mFile:\u001b[0m      c:\\users\\jeongeun_kim\\appdata\\local\\anaconda3\\envs\\ml_env\\lib\\random.py\n",
       "\u001b[1;31mType:\u001b[0m      method"
      ]
     },
     "metadata": {},
     "output_type": "display_data"
    }
   ],
   "source": [
    "random.randrange?"
   ]
  },
  {
   "cell_type": "code",
   "execution_count": 54,
   "id": "2c8f1574-2baf-4208-8598-72d292ff609e",
   "metadata": {},
   "outputs": [
    {
     "name": "stdout",
     "output_type": "stream",
     "text": [
      "Face    Frequency     Ratio\n",
      "   0         4972     49.72\n",
      "   1         5028     50.28\n"
     ]
    }
   ],
   "source": [
    "f0 = 0\n",
    "f1 = 0\n",
    "sample = 10_000\n",
    "\n",
    "for roll in range(sample):\n",
    "    face = random.randrange(0, 2)\n",
    "    if face == 0:\n",
    "        f0 += 1\n",
    "    else:\n",
    "        f1 += 1\n",
    "\n",
    "print(f'{\"Face\"}{\"Frequency\":>13}{\"Ratio\":>10}')\n",
    "print(f'{0:>4}{f0:>13}{f0/sample*100:>10.2f}')\n",
    "print(f'{1:>4}{f1:>13}{f1/sample*100:>10.2f}')"
   ]
  },
  {
   "cell_type": "code",
   "execution_count": 63,
   "id": "3ee9171d-0ca2-4b7f-bf03-8e94f3bfe936",
   "metadata": {},
   "outputs": [
    {
     "name": "stdout",
     "output_type": "stream",
     "text": [
      "3 6 3 1 2 1 2 3 6 3 "
     ]
    }
   ],
   "source": [
    "random.seed(20191215)\n",
    "\n",
    "for roll in range(10):\n",
    "    print(random.randrange(1, 7), end=' ')"
   ]
  },
  {
   "cell_type": "code",
   "execution_count": 65,
   "id": "c6d8cc79-4c2e-44bc-b4ca-f620c8e8fd52",
   "metadata": {},
   "outputs": [
    {
     "name": "stdout",
     "output_type": "stream",
     "text": [
      "4 4 5 6 6 6 6 5 2 4 "
     ]
    }
   ],
   "source": [
    "for roll in range(10):\n",
    "    print(random.randrange(1, 7), end=' ')"
   ]
  },
  {
   "cell_type": "code",
   "execution_count": 66,
   "id": "bfc97a11-ec03-4d02-90ef-ed13c5ce038e",
   "metadata": {},
   "outputs": [
    {
     "name": "stdout",
     "output_type": "stream",
     "text": [
      "3.141592653589793 10 9\n",
      "4\n"
     ]
    }
   ],
   "source": [
    "from math import ceil, floor, pi\n",
    "import statistics as stat\n",
    "\n",
    "print(pi, ceil(9.8), floor(9.8))\n",
    "x = [3,4,5]\n",
    "print(stat.mean(x))"
   ]
  },
  {
   "cell_type": "markdown",
   "id": "a876b6d7-a167-43e3-9d29-46140784fec2",
   "metadata": {},
   "source": [
    "__1. Lists and Tuples__"
   ]
  },
  {
   "cell_type": "code",
   "execution_count": 67,
   "id": "92c97733-ac73-477a-9b70-68553f5688c0",
   "metadata": {},
   "outputs": [
    {
     "name": "stdout",
     "output_type": "stream",
     "text": [
      "<class 'list'> [1, 2, 3, 'a', 'b']\n"
     ]
    }
   ],
   "source": [
    "list1 = [1,2,3, 'a', 'b']\n",
    "\n",
    "print(type(list1), list1)"
   ]
  },
  {
   "cell_type": "code",
   "execution_count": 80,
   "id": "87595936-ac9c-4fab-aa89-9087ea57c378",
   "metadata": {},
   "outputs": [
    {
     "name": "stdout",
     "output_type": "stream",
     "text": [
      "2 b\n",
      "[3, 'a', 'b']\n",
      "[1, 2, 3, 'a', 'b']\n",
      "b\n",
      "2\n",
      "['a', 'b']\n"
     ]
    }
   ],
   "source": [
    "print(list1[1], list1[4])\n",
    "print(list1[2:5])\n",
    "print(list1[:5])\n",
    "print(list1[-1])\n",
    "print(list1[-4])\n",
    "print(list1[1+2:])"
   ]
  },
  {
   "cell_type": "code",
   "execution_count": 81,
   "id": "4279736e-6998-4f5e-b4f0-974be2253e45",
   "metadata": {},
   "outputs": [
    {
     "data": {
      "text/plain": [
       "5"
      ]
     },
     "execution_count": 81,
     "metadata": {},
     "output_type": "execute_result"
    }
   ],
   "source": [
    "len(list1)"
   ]
  },
  {
   "cell_type": "code",
   "execution_count": 82,
   "id": "b7bc96fe-8f7b-4df0-ae5a-1ee778078c0e",
   "metadata": {},
   "outputs": [],
   "source": [
    "list1[2] = 'c'"
   ]
  },
  {
   "cell_type": "code",
   "execution_count": 83,
   "id": "9f698c2c-3e79-414b-b665-518388e62abc",
   "metadata": {},
   "outputs": [
    {
     "name": "stdout",
     "output_type": "stream",
     "text": [
      "<class 'list'> [1, 2, 'c', 'a', 'b']\n"
     ]
    }
   ],
   "source": [
    "print(type(list1), list1)"
   ]
  },
  {
   "cell_type": "code",
   "execution_count": 88,
   "id": "c202f4eb-f1eb-4c85-8f07-e443c798cf60",
   "metadata": {},
   "outputs": [
    {
     "name": "stdout",
     "output_type": "stream",
     "text": [
      "<class 'list'> [11, 12, 13]\n"
     ]
    }
   ],
   "source": [
    "list2 = []\n",
    "\n",
    "for item in range(11, 14, 1):\n",
    "    # list2 += [item]\n",
    "    list2.append(item)\n",
    "\n",
    "print(type(list2), list2)"
   ]
  },
  {
   "cell_type": "code",
   "execution_count": 90,
   "id": "7046bbbe-326c-4984-ba11-4e0ac62c3dd2",
   "metadata": {},
   "outputs": [
    {
     "name": "stdout",
     "output_type": "stream",
     "text": [
      "<class 'list'> ['J', 'H', ' ', 'm', 'i', 's', 's', ' ', 'y', 'o', 'u', ' ']\n"
     ]
    }
   ],
   "source": [
    "list3 = []\n",
    "list3 += 'JH miss you '\n",
    "print(type(list3), list3)"
   ]
  },
  {
   "cell_type": "code",
   "execution_count": 91,
   "id": "831dacee-12dc-4260-aa98-d80964745f9d",
   "metadata": {},
   "outputs": [
    {
     "name": "stdout",
     "output_type": "stream",
     "text": [
      "<class 'list'> ['J', 'H', ' ', 'm', 'i', 's', 's', ' ', 'y', 'o', 'u', ' ', 'L', 'O', 'V', 'E']\n"
     ]
    }
   ],
   "source": [
    "list3 += ('L','O','V','E')\n",
    "print(type(list3), list3)"
   ]
  },
  {
   "cell_type": "code",
   "execution_count": 94,
   "id": "40ad38e4-a28f-480a-8888-c66d9f6e7424",
   "metadata": {},
   "outputs": [
    {
     "name": "stdout",
     "output_type": "stream",
     "text": [
      "[1, 2, 'c', 'a', 'b', 11, 12, 13]\n"
     ]
    }
   ],
   "source": [
    "list_new = list1 + list2\n",
    "print(list_new)"
   ]
  },
  {
   "cell_type": "code",
   "execution_count": 98,
   "id": "7336d30f-80fd-4060-85bf-f4dce4fae8c3",
   "metadata": {},
   "outputs": [
    {
     "name": "stdout",
     "output_type": "stream",
     "text": [
      "(0, 1) (1, 2) (2, c) (3, a) (4, b) (5, 11) (6, 12) (7, 13) "
     ]
    }
   ],
   "source": [
    "for i in range(len(list_new)):\n",
    "    print(f'({i}, {list_new[i]})', end = ' ')"
   ]
  },
  {
   "cell_type": "code",
   "execution_count": 101,
   "id": "234c4a79-7003-45cc-b29f-a4a7f0dc0c8d",
   "metadata": {},
   "outputs": [
    {
     "name": "stdout",
     "output_type": "stream",
     "text": [
      "(10, 20, 30, 'JH', 40, 50)\n"
     ]
    }
   ],
   "source": [
    "t1 = 10, 20, 30, 'JH'\n",
    "t1 += ( 40, 50 )\n",
    "print(t1)"
   ]
  },
  {
   "cell_type": "code",
   "execution_count": 105,
   "id": "ee78dfc6-66d5-4c3a-9a03-5cc6c2929335",
   "metadata": {},
   "outputs": [
    {
     "name": "stdout",
     "output_type": "stream",
     "text": [
      "(10, 20, 30, 40)\n",
      "30\n",
      "(10, 20, 30)\n"
     ]
    }
   ],
   "source": [
    "t2 = tuple([10, 20, 30, 40])\n",
    "print(t2)\n",
    "print(t2[2])\n",
    "print(t2[:3])"
   ]
  },
  {
   "cell_type": "code",
   "execution_count": 117,
   "id": "87c3d72c-6213-49f4-8590-941a43aa90f1",
   "metadata": {},
   "outputs": [
    {
     "name": "stdout",
     "output_type": "stream",
     "text": [
      "4\n",
      "('lee', 'jun', 'ho', [80, 88, 100])\n"
     ]
    }
   ],
   "source": [
    "t3 = 'lee', 'jun', 'ho', [80, 90, 100]\n",
    "print(len(t3))\n",
    "t3[3][1] = 88\n",
    "print(t3)"
   ]
  },
  {
   "cell_type": "code",
   "execution_count": 115,
   "id": "7c6282ef-d0ca-4687-858e-4e4110e4a9e4",
   "metadata": {},
   "outputs": [
    {
     "name": "stdout",
     "output_type": "stream",
     "text": [
      "2\n",
      "('lee', 'jun', 'ho') [80, 90, 100] <class 'tuple'> <class 'list'>\n",
      "80 90 100\n",
      "L O V E\n"
     ]
    }
   ],
   "source": [
    "t4 = (('lee', 'jun', 'ho'), [80, 90, 100])\n",
    "print(len(t4))\n",
    "last_name, grades = t4\n",
    "print(last_name, grades, type(last_name), type(grades))\n",
    "\n",
    "grade1, grade2, grade3 = grades\n",
    "print(grade1, grade2, grade3)\n",
    "\n",
    "first, second, third, fourth = 'LOVE'\n",
    "print(first, second, third, fourth) \n"
   ]
  },
  {
   "cell_type": "code",
   "execution_count": 120,
   "id": "b5fe49d9-db27-4126-b14e-b383ffe2632e",
   "metadata": {},
   "outputs": [
    {
     "name": "stdout",
     "output_type": "stream",
     "text": [
      "[(0, 'red'), (1, 'yellow'), (2, 'blue')]\n",
      "((0, 'red'), (1, 'yellow'), (2, 'blue'))\n",
      "0:red\n",
      "1:yellow\n",
      "2:blue\n"
     ]
    }
   ],
   "source": [
    "colors = ['red', 'yellow', 'blue']\n",
    "print(list(enumerate(colors)))\n",
    "print(tuple(enumerate(colors)))\n",
    "\n",
    "for index, color in enumerate(colors):\n",
    "    print(f'{index}:{color}')"
   ]
  },
  {
   "cell_type": "code",
   "execution_count": 127,
   "id": "125f9353-4271-4d1b-9387-3e64b210e56d",
   "metadata": {},
   "outputs": [
    {
     "name": "stdout",
     "output_type": "stream",
     "text": [
      "Index   Value,    Bar\n",
      "    0       1     *\n",
      "    1      25     *************************\n",
      "    2       9     *********\n"
     ]
    }
   ],
   "source": [
    "bar = [1, 25, 9]\n",
    "print(f'Index{\"Value\":>8},    Bar')\n",
    "for index, value in enumerate(bar):\n",
    "    print(f'{index:>5}{value:>8}     {\"*\"*value}')"
   ]
  },
  {
   "cell_type": "code",
   "execution_count": 130,
   "id": "b1bf5007-b945-46dd-9735-6f141e5ba557",
   "metadata": {},
   "outputs": [
    {
     "name": "stdout",
     "output_type": "stream",
     "text": [
      "[1, 2, 'c', 'a', 'b', 11, 12, 13]\n",
      "[1, 2, 'c', 'a', 'b', 11, 12, 13]\n",
      "[1, 'a', 12]\n"
     ]
    }
   ],
   "source": [
    "print(list_new)\n",
    "print(list_new[:])\n",
    "print(list_new[::3])"
   ]
  },
  {
   "cell_type": "code",
   "execution_count": 131,
   "id": "b53a7561-d7e3-4c9a-abed-a2f22d775c6f",
   "metadata": {},
   "outputs": [
    {
     "name": "stdout",
     "output_type": "stream",
     "text": [
      "['one', 'two', 'three', 'a', 'b', 11, 12, 13]\n"
     ]
    }
   ],
   "source": [
    "list_new[0:3] = ['one', 'two', 'three']\n",
    "print(list_new)"
   ]
  },
  {
   "cell_type": "code",
   "execution_count": 132,
   "id": "bbdbd85a-fd60-4d43-94a4-51a15ce0a1c1",
   "metadata": {},
   "outputs": [
    {
     "name": "stdout",
     "output_type": "stream",
     "text": [
      "['a', 'b', 11, 12, 13]\n"
     ]
    }
   ],
   "source": [
    "list_new[0:3] = []\n",
    "print(list_new)"
   ]
  },
  {
   "cell_type": "code",
   "execution_count": 133,
   "id": "ccd08ef2-de85-4553-af17-db01412240c9",
   "metadata": {},
   "outputs": [
    {
     "name": "stdout",
     "output_type": "stream",
     "text": [
      "['a', 'b', 11, 12]\n"
     ]
    }
   ],
   "source": [
    "del list_new[-1]\n",
    "print(list_new)"
   ]
  },
  {
   "cell_type": "code",
   "execution_count": 134,
   "id": "42fcecc8-da04-4d07-84eb-a6c952bc9031",
   "metadata": {},
   "outputs": [
    {
     "name": "stdout",
     "output_type": "stream",
     "text": [
      "['b', 12]\n"
     ]
    }
   ],
   "source": [
    "del list_new[::2]\n",
    "print(list_new)"
   ]
  },
  {
   "cell_type": "code",
   "execution_count": 135,
   "id": "79676aa6-4271-4a80-8ea4-e0044c15c90c",
   "metadata": {},
   "outputs": [
    {
     "name": "stdout",
     "output_type": "stream",
     "text": [
      "[]\n"
     ]
    }
   ],
   "source": [
    "del list_new[:]\n",
    "print(list_new)"
   ]
  },
  {
   "cell_type": "code",
   "execution_count": 141,
   "id": "a3c0aae8-6c81-4138-afcd-1cbdc5e73f6a",
   "metadata": {},
   "outputs": [],
   "source": [
    "#print(bar)\n",
    "#del bar\n",
    "#print(bar)"
   ]
  },
  {
   "cell_type": "code",
   "execution_count": 154,
   "id": "21c381c5-d393-4fa2-a72e-25bb0896e2b6",
   "metadata": {},
   "outputs": [
    {
     "data": {
      "text/plain": [
       "[1, 2, 3, 4, 5, 7, 8]"
      ]
     },
     "execution_count": 154,
     "metadata": {},
     "output_type": "execute_result"
    }
   ],
   "source": [
    "numbers = [1,5,2,7,4,8,3]\n",
    "numbers.sort()\n",
    "numbers"
   ]
  },
  {
   "cell_type": "code",
   "execution_count": 152,
   "id": "71594b9f-23ed-4124-97ac-bc8276c9985b",
   "metadata": {},
   "outputs": [
    {
     "data": {
      "text/plain": [
       "[8, 7, 5, 4, 3, 2, 1]"
      ]
     },
     "execution_count": 152,
     "metadata": {},
     "output_type": "execute_result"
    }
   ],
   "source": [
    "numbers.sort(reverse = True)\n",
    "numbers"
   ]
  },
  {
   "cell_type": "code",
   "execution_count": 155,
   "id": "9fb6145f-504d-4157-a877-541b486befc7",
   "metadata": {},
   "outputs": [
    {
     "data": {
      "text/plain": [
       "[8, 7, 5, 4, 3, 2, 1]"
      ]
     },
     "execution_count": 155,
     "metadata": {},
     "output_type": "execute_result"
    }
   ],
   "source": [
    "numbers.reverse()\n",
    "numbers"
   ]
  },
  {
   "cell_type": "code",
   "execution_count": 162,
   "id": "ae43d662-9ca5-40ee-aba6-5f8368d3ec22",
   "metadata": {},
   "outputs": [
    {
     "name": "stdout",
     "output_type": "stream",
     "text": [
      "I Love J H! <class 'str'>\n",
      "['I', 'Love', 'J', 'H!'] <class 'list'>\n"
     ]
    }
   ],
   "source": [
    "str = 'I Love J H!'\n",
    "print(str, type(str))\n",
    "str = str.split()\n",
    "print(str, type(str))"
   ]
  },
  {
   "cell_type": "code",
   "execution_count": 157,
   "id": "61e2dee0-7d7c-4006-bb07-00b0b802239f",
   "metadata": {},
   "outputs": [
    {
     "name": "stdout",
     "output_type": "stream",
     "text": [
      "['I', 'JH!', 'Love'] <class 'list'>\n"
     ]
    }
   ],
   "source": [
    "str.sort(key=len)\n",
    "print(str, type(str))"
   ]
  },
  {
   "cell_type": "code",
   "execution_count": 163,
   "id": "398121fd-a045-48ac-9a8b-d8c314c4abba",
   "metadata": {},
   "outputs": [
    {
     "name": "stdout",
     "output_type": "stream",
     "text": [
      "['H!', 'I', 'J', 'Love'] <class 'list'>\n"
     ]
    }
   ],
   "source": [
    "str = sorted(str)\n",
    "print(str, type(str))"
   ]
  },
  {
   "cell_type": "code",
   "execution_count": 173,
   "id": "3a689a81-3891-43cc-87c0-57e76a90e1da",
   "metadata": {},
   "outputs": [
    {
     "name": "stdout",
     "output_type": "stream",
     "text": [
      "[1, 5, 2, 7, 4, 8, 3]\n",
      "[1, 2, 3, 4, 5, 7, 8]\n",
      "[3, 8, 4, 7, 2, 5, 1]\n",
      "False\n",
      "True\n"
     ]
    }
   ],
   "source": [
    "x = [1,5,2,7,4,8,3]\n",
    "y = sorted(x)\n",
    "z = reversed(x)\n",
    "print(x)\n",
    "print(y)\n",
    "print(list(z))\n",
    "print(12 in x)\n",
    "print('Love' in str)"
   ]
  },
  {
   "cell_type": "code",
   "execution_count": 176,
   "id": "a07dc3ab-41bf-4a7b-b04b-8a4d53d7fd4c",
   "metadata": {},
   "outputs": [
    {
     "name": "stdout",
     "output_type": "stream",
     "text": [
      "['H!', 'I', 'J', 'Love']\n",
      "['H!', 'I', '완전', 'J', 'Love']\n"
     ]
    }
   ],
   "source": [
    "print(str)\n",
    "str.insert(2, '완전')\n",
    "print(str)"
   ]
  },
  {
   "cell_type": "code",
   "execution_count": 177,
   "id": "f7b5e28d-5ae1-4248-b9cc-6693f7b6da59",
   "metadata": {},
   "outputs": [
    {
     "name": "stdout",
     "output_type": "stream",
     "text": [
      "['H!', 'I', '완전', 'J', 'Love']\n",
      "['H!', 'I', '완전', 'J', 'Love', 'somush']\n"
     ]
    }
   ],
   "source": [
    "print(str)\n",
    "str.append('somush')\n",
    "print(str)"
   ]
  },
  {
   "cell_type": "code",
   "execution_count": 178,
   "id": "0f997541-2015-4afd-bebc-0b9fedad2ed8",
   "metadata": {},
   "outputs": [
    {
     "name": "stdout",
     "output_type": "stream",
     "text": [
      "['H!', 'I', '완전', 'J', 'Love', 'somush']\n",
      "['H!', 'I', 'J', 'Love', 'somush']\n"
     ]
    }
   ],
   "source": [
    "print(str)\n",
    "str.remove('완전')\n",
    "print(str)"
   ]
  },
  {
   "cell_type": "code",
   "execution_count": 181,
   "id": "b4c3f48c-ca20-4120-bfe2-4f2f35f964b2",
   "metadata": {},
   "outputs": [
    {
     "name": "stdout",
     "output_type": "stream",
     "text": [
      "['H!', 'I', 'J', 'Love', 'somush', 'JH', 'JK', 'JH', 'JK']\n",
      "['H!', 'I', 'J', 'Love', 'somush', 'JH', 'JK', 'JH', 'JK']\n"
     ]
    }
   ],
   "source": [
    "print(str+['JH', 'JK'])\n",
    "str.extend(['JH', 'JK'])\n",
    "print(str)"
   ]
  },
  {
   "cell_type": "code",
   "execution_count": 182,
   "id": "479551bb-eb16-4750-87ed-7253c699fe25",
   "metadata": {},
   "outputs": [
    {
     "name": "stdout",
     "output_type": "stream",
     "text": [
      "[]\n"
     ]
    }
   ],
   "source": [
    "str.clear()\n",
    "print(str)"
   ]
  },
  {
   "cell_type": "code",
   "execution_count": 184,
   "id": "b02dd211-c549-4417-9cf3-774605283edb",
   "metadata": {},
   "outputs": [
    {
     "name": "stdout",
     "output_type": "stream",
     "text": [
      "[1, 5, 2, 7, 4, 8, 3]\n",
      "[1, 5, 2, 7, 4, 8, 3]\n",
      "[1, 5, 2, 7, 4, 8, 3]\n"
     ]
    }
   ],
   "source": [
    "print(x)\n",
    "x_cp = x.copy()\n",
    "print(x_cp)\n",
    "print(x.copy())"
   ]
  },
  {
   "cell_type": "code",
   "execution_count": null,
   "id": "d4531cdd-632d-4010-b518-9541326ba02c",
   "metadata": {},
   "outputs": [],
   "source": []
  }
 ],
 "metadata": {
  "kernelspec": {
   "display_name": "Python 3 (ipykernel)",
   "language": "python",
   "name": "python3"
  },
  "language_info": {
   "codemirror_mode": {
    "name": "ipython",
    "version": 3
   },
   "file_extension": ".py",
   "mimetype": "text/x-python",
   "name": "python",
   "nbconvert_exporter": "python",
   "pygments_lexer": "ipython3",
   "version": "3.11.8"
  }
 },
 "nbformat": 4,
 "nbformat_minor": 5
}
